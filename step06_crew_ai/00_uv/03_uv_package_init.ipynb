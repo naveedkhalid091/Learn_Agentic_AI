{
 "cells": [
  {
   "cell_type": "markdown",
   "metadata": {},
   "source": [
    "## `UV Package Initialization:` "
   ]
  },
  {
   "cell_type": "markdown",
   "metadata": {},
   "source": [
    "#### Creating a Package & Its Structure: \n",
    "\n",
    "- You can create a package by running below command in the terminal:"
   ]
  },
  {
   "cell_type": "code",
   "execution_count": 3,
   "metadata": {},
   "outputs": [],
   "source": [
    "# uv init --package projectName\n"
   ]
  },
  {
   "cell_type": "markdown",
   "metadata": {},
   "source": [
    "After running the command, you’ll notice:\n",
    "\n",
    " - A new `src` folder in your project.\n",
    " - The .toml file now includes three sections: `[project]`, `[project.scripts]`, and `[build-system]`.\n",
    "\n",
    "The [project.scripts] section lets you define custom commands for your terminal. For example, if you define a command piaic, you can later run it with:\n"
   ]
  },
  {
   "cell_type": "code",
   "execution_count": 4,
   "metadata": {},
   "outputs": [],
   "source": [
    "# uv run piaic\n"
   ]
  },
  {
   "cell_type": "markdown",
   "metadata": {},
   "source": [
    "The syntax for defining a command in the `.toml` file is:\n",
    "\n",
    "`variableName = ProjectFolderPath:functionName`\n"
   ]
  },
  {
   "cell_type": "markdown",
   "metadata": {},
   "source": [
    " - **variableName:** The name you choose for your command (e.g., piaic).\n",
    " - **ProjectFolderPath:** The folder path of your project (without including src).\n",
    " - **functionName:** The function that will be executed."
   ]
  },
  {
   "cell_type": "markdown",
   "metadata": {},
   "source": [
    "### 1. Defining a Function Directly in __init__.py: \n",
    "\n",
    "##### 1. Create the Function:\n",
    "        In your `__init__.py` (inside your package folder), add a function that prints a message, for example: "
   ]
  },
  {
   "cell_type": "code",
   "execution_count": 2,
   "metadata": {},
   "outputs": [],
   "source": [
    "def function1():\n",
    "    print(\"Wao, this is my first package\")\n"
   ]
  },
  {
   "cell_type": "markdown",
   "metadata": {},
   "source": [
    "##### 2. Update the .toml File:\n",
    "\n",
    " - Under the [project.scripts] section, add:\n",
    "\n",
    " piaic = project2:function1\n",
    "\n",
    "**(Assuming your package folder is named project2.)**\n"
   ]
  },
  {
   "cell_type": "markdown",
   "metadata": {},
   "source": [
    "##### 3. Run the Command:\n",
    "- In the terminal, execute:\n",
    "\n",
    "    `uv run piaic`\n",
    "\n",
    "**Note: When calling a function defined in __init__.py, you refer only to the package name (e.g., project2), not the src folder.**\n"
   ]
  },
  {
   "cell_type": "markdown",
   "metadata": {},
   "source": [
    "### 2. Defining a Function in a Nested Folder: \n",
    "\n",
    " #####  1. Set Up the Folder Structure:\n",
    "  - Inside the `src` folder, create a folder `(e.g., karachi)`.\n",
    "  - Inside `karachi`, create another folder `(e.g., lahore)`.\n",
    "\n",
    " ##### 2. Create a Python File:\n",
    "   - In the nested folder (i.e., `karachi/lahore/`), create a file called `myfile.py`.\n",
    " ##### 3. Write the Function:\n",
    "   - In `myfile.py`, define a function, such as:\n",
    "       "
   ]
  },
  {
   "cell_type": "code",
   "execution_count": 1,
   "metadata": {},
   "outputs": [],
   "source": [
    "def function1():\n",
    "    print(\"Hello from Nested folder Lahore\")\n"
   ]
  },
  {
   "cell_type": "markdown",
   "metadata": {},
   "source": [
    "#### 4. Update the .toml File:\n",
    "\n",
    "Under [project.scripts], add:\n",
    " \n",
    " `city_message = karachi.lahore.myfile:function1`\n"
   ]
  },
  {
   "cell_type": "markdown",
   "metadata": {},
   "source": [
    "##### 5. Run the Command:\n",
    "\n",
    "- In your terminal, run:\n",
    "\n",
    "   `uv run city_message`"
   ]
  }
 ],
 "metadata": {
  "kernelspec": {
   "display_name": "first-project-8hIcsJoR-py3.13",
   "language": "python",
   "name": "python3"
  },
  "language_info": {
   "codemirror_mode": {
    "name": "ipython",
    "version": 3
   },
   "file_extension": ".py",
   "mimetype": "text/x-python",
   "name": "python",
   "nbconvert_exporter": "python",
   "pygments_lexer": "ipython3",
   "version": "3.13.0"
  }
 },
 "nbformat": 4,
 "nbformat_minor": 2
}
