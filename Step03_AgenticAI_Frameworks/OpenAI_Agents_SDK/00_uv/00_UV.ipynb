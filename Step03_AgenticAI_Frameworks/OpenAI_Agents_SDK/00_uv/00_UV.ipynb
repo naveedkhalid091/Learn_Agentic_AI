{
  "nbformat": 4,
  "nbformat_minor": 0,
  "metadata": {
    "colab": {
      "provenance": [],
      "authorship_tag": "ABX9TyPKOgAh0AX6/bjpTKTFZQQ9",
      "include_colab_link": true
    },
    "kernelspec": {
      "name": "python3",
      "display_name": "Python 3"
    },
    "language_info": {
      "name": "python"
    }
  },
  "cells": [
    {
      "cell_type": "markdown",
      "metadata": {
        "id": "view-in-github",
        "colab_type": "text"
      },
      "source": [
        "<a href=\"https://colab.research.google.com/github/naveedkhalid091/Learn_Agentic_AI/blob/main/step06(b)_crew_ai/00_uv/00_UV.ipynb\" target=\"_parent\"><img src=\"https://colab.research.google.com/assets/colab-badge.svg\" alt=\"Open In Colab\"/></a>"
      ]
    },
    {
      "cell_type": "markdown",
      "source": [
        "# **What Is UV?**\n",
        "\n",
        "UV is a package manager same as Anaconda, poetry and pip but with more features.\n",
        "\n",
        "Think of UV as a one-stop tool that replaces a bunch of separate Python utilities (like pip, pip-tools, pipx, poetry, pyenv, and virtualenv). Instead of juggling multiple commands, you just use `UV` for everything—installing packages, managing virtual environments, and even handling Python versions.\n",
        "\n",
        "If you need more official details, check out the [UV docs](https://docs.astral.sh/uv/)\n"
      ],
      "metadata": {
        "id": "0iF-X9vISI7H"
      }
    },
    {
      "cell_type": "markdown",
      "source": [
        "## Features of UV Package Manager:\n",
        "\n",
        "1. **A Single Tool for Many Tasks:** UV is designed to simplify your workflow. Instead of juggling multiple commands for package management, environment creation, and dependency resolution, UV combines them all. This means you can stop worrying about which tool to use—UV takes care of everything, so you can focus solely on your code.\n",
        "\n",
        " - **For Example:** Instead of running `pip install`, `python -m venv`, and `pyenv`, you simply use commands like `uv init` and `uv add` to manage everything.\n",
        "  \n",
        "  **a) - How Do You Use UV?:**\n",
        " - **i) Starting a New Project:** To start a new project run following\n",
        "     \n",
        "      `uv init myproject`\n",
        "  \n",
        "      This creates a new folder with a pyproject.toml file, a .venv folder, and starter files.\n",
        "\n",
        " - **ii) Adding Dependencies:** To add a package, run the following command:\n",
        "    \n",
        "      `uv add packageName`\n",
        "    \n",
        "      UV creates or updates your virtual environment and records the package in your configuration and lockfile.\n",
        "\n",
        "   - **iii) Running Your Code:** Instead of activating the virtual environment manually, run your commands directly:\n",
        "\n",
        "     `uv run python your_script.py`\n",
        "\n",
        " - **iv) Managing Python Versions:**\n",
        "     This ensures your script runs with all dependencies properly loaded.\n",
        "\n",
        "     `uv python install 3.10 3.11 3.12`\n",
        "     \n",
        "     `uv python pin 3.11`\n",
        "   \n",
        "     This makes sure your project uses the pinned version every time.\n",
        "\n",
        "- **Built in Rust for Speed:** Unlike many existing Python tools (which are written in Python), UV is implemented in Rust. This makes many operations—like resolving dependencies and creating virtual environments—much faster (often 10–100 times faster) than traditional methods.\n",
        "- **Unified Project Workflow:** UV uses a standard configuration file **`(pyproject.toml)`** to store project metadata and dependencies and creates its own lock file (uv.lock) for reproducible installations. It also provides commands like **`uv init`** (to start a new project), **`uv add`** (to add dependencies), **`uv sync`** (to update the project environment), and **`uv run`** (to execute scripts without manually activating a virtual environment).\n"
      ],
      "metadata": {
        "id": "yrV4x3pOSU-G"
      }
    },
    {
      "cell_type": "markdown",
      "source": [
        "\n",
        "## Installation:\n",
        "\n",
        "Install uv with our official standalone installer:"
      ],
      "metadata": {
        "id": "ZHLUSJbeTsUE"
      }
    },
    {
      "cell_type": "code",
      "source": [
        "# windows command\n",
        " powershell -c \"irm https://astral.sh/uv/install.ps1 | iex\""
      ],
      "metadata": {
        "id": "w2Vl8jVOWrcU"
      },
      "execution_count": null,
      "outputs": []
    },
    {
      "cell_type": "markdown",
      "source": [
        "## Structure of your project when working with CrewAI & LLM based applications:\n",
        "\n",
        "In every project you need to have a folder structure so you also need a folder structure in crewAI & LLM related projects. for Example:   \n",
        "- You need to have a `.toml` file.\n",
        "- You need to have `src` folder.\n",
        "   - You need to have `crewAI` folder inside the `src` folder.\n",
        "   - You need to have `.env` file inside the `src` folder.\n",
        "And many more complex things.\n",
        "\n",
        "You had to create the folder structure manually before the availability of python package managers like `poerty` and `uv` but **thanks to these package managers** who made the developers life easy and now the creation of folder structure is solely the responsibility of these package managers.\n",
        "\n",
        "Developers now only focus on `code` and `uv` manage the folder structure for us.\n",
        "\n",
        "**Secondly**, `uv` has made the unified python structure so that the same structure work all operating systems like Windows,Linux and Apple etc.\n",
        "\n",
        "**Thirdly**, `uv` has the command/expertise on all the available python management tools because uv is written on **RUST** language.\n",
        "\n",
        "**Fourth**, As we know that the `uv` is written on **RUST** and RUST is known as the fastest language that's why the another feature of `uv` is that the `uv` downloads the packages and dependancies very fast becasue all other package managers allow the sequesntial downloading but `uv` has enabled the prallel downloading.\n",
        "- **For Example:** if there are ten tools to download in a single package then it will download all the tools parallel rather then sequential downloading.   \n",
        "\n",
        "**Fifth:** It was considered tough for the developers to move from one package manager into another package manager (i.e. shifing from poetry to anaconda vice versa). but `uv` has made it easy by allowing the other package manager' tools by using the `uv`. so the developers migration made easy through this facility.  \n",
        "\n",
        "**Sixth:** `UV` will manage dependancies version related conflicts.    \n",
        "\n",
        "**Seventh:** `UV` has built-in virtual environment management.\n",
        "\n",
        "**Eighth:** `UV` has dependancy lock-in file feature, means if you have built project today with dependencies like `numpy`,`tensorflow` etc based on their current version but after 10 years if the versions of all of your dependencies are changed/updated then without `lock-in` feature you will not be able to run your project unless you update your code based on new versions but `lock-in` feature in `UV` has enabled your project to run based on the previous versions as well.   \n",
        "\n",
        "**Nineth - Memory Management in UV**: This is another one of the biggest feature in `UV`. You can save your machine memory by installing all the required packages globally (instead of project specific). SO you will have to download your packages globally like `numpy` will be globally installed into your machine and the virtual environment will select the already installed packages into your project. This will greatly save the machine's memory because previously without `UV` package manager you will have to install the packages everytime with another project.  "
      ],
      "metadata": {
        "id": "k0WKmm0ZTKoA"
      }
    },
    {
      "cell_type": "markdown",
      "source": [
        "## Comparisons of all important package managers:\n",
        "\n",
        "I have provided below article link of important package managers, this article has provided a comparison of all package managers.\n",
        "\n",
        "[The Ultimate Guide to the Fastest Python Package Manager](https://www.datacamp.com/tutorial/python-uv)\n"
      ],
      "metadata": {
        "id": "ExXZkz4gsUlh"
      }
    },
    {
      "cell_type": "markdown",
      "source": [
        "## **Question:** Why we have Choosen `UV` as a Package Manager?\n",
        "\n",
        "We have choosen `UV` Package Manager because of the following reasons:\n",
        "\n",
        "1. **`crewAI`** is using **`uv`** package manager.\n",
        "2. **`FastAPI`** is using **`uv`** package manager.\n",
        "\n",
        "\n",
        "\n"
      ],
      "metadata": {
        "id": "PvRLQ0AMtK6e"
      }
    }
  ]
}