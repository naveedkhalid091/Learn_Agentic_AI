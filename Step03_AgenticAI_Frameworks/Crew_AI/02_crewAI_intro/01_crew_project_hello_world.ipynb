{
 "cells": [
  {
   "cell_type": "markdown",
   "metadata": {},
   "source": [
    "## Create first crew project: \n",
    "\n",
    "**1. Generate Project Structure:**\n",
    "  - Write below CLI command \n",
    "     `crewai create flow projectName`\n",
    "\n",
    "     This command creates a project structure where you can connect multiple crews and chain tasks using decorators like @start and @listen.\n",
    "   \n",
    "  - Navigate to the `projectName` directory created from above command.   \n",
    "    \n",
    "    **Note: CrewAI also uses the **UV & liteLLM** so both of these will be used here automatically.**  \n",
    "  \n",
    "  - Go to the `.env` file, here you can paste your LLM model's key. You can also customize name based on your LLM and secondly you need to enter your model here. (You can visit projects>project1 directory to varify & check the patern). \n",
    "\n",
    "  - Navigate to the directory (projects1>src) and open the `main.py` and you will see that some built-in functions are already available including `kickoff`, `plot` etc. \n",
    "\n",
    "  - Navigate to the `pyproject.toml` file and you will see that a packages/variable related to the functions created in the `main.py` are already built-up. \n",
    "  \n",
    "  - You should run the `kickoff` first in the terminal using `uv` command below.\n",
    "    `uv run kickoff`  \n",
    "   \n",
    "      - The command **uv run kickoff** is essentially the shortcut used to start the execution of your CrewAI project’s workflow. Here’s what it does:\n",
    "\n",
    "         - **Entry Point Execution:** It calls the kickoff function (usually defined in your project's main script) which is the entry point of your Crew or Flow. This function is responsible for initializing and running the sequence of tasks or agents defined in your project.\n",
    "\n",
    "         - When you run this command, it ensures that all the necessary packages and configurations are loaded before your workflow starts.\n",
    "\n",
    "         - **Output Handling:** Upon running, it executes your workflow (or flow) and returns the final output (or errors if something goes wrong) to the console, allowing you to see the results of your multi-agent or task-based operations.\n",
    "\n",
    "   In summary, uv run kickoff is the command you use to trigger your CrewAI project’s execution—setting up the environment, loading configurations, and starting the defined workflow so that your AI agents or tasks can work together as intended.\n",
    "\n",
    "\n",
    "\n",
    "\n",
    "\n"
   ]
  }
 ],
 "metadata": {
  "language_info": {
   "name": "python"
  }
 },
 "nbformat": 4,
 "nbformat_minor": 2
}
