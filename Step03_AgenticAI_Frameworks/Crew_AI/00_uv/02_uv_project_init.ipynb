{
 "cells": [
  {
   "cell_type": "markdown",
   "metadata": {},
   "source": [
    "## Initialization of UV Project: \n",
    "\n",
    "#### 1. Setting Up Your Project: \n",
    "\n",
    "After installing UV, you can start your first project by following these steps:\n",
    "\n",
    " - Navigate to your project directory.\n",
    " - Run the command:\n",
    "    `uv init projectName`\n",
    " - This command creates your project with a basic file structure, including:\n",
    "   - `.python-version`. \n",
    "   - `hello.py`.\n",
    "   - `pyproject.toml`.\n",
    "   - `README.md`. \n",
    "\n",
    "The most important file here is pyproject.toml because it manages running, adding, deleting, updating, and publishing packages.   "
   ]
  },
  {
   "cell_type": "markdown",
   "metadata": {},
   "source": [
    "#### 2. Understanding `pyproject.toml`:\n",
    "\n",
    "- The `pyproject.toml` file organizes your project settings into sections. The first section, [project], contains key information about your project.\n",
    "\n",
    "#### 3. About `hello.py`:\n",
    "\n",
    "The `hello.py` file comes with a basic main function. To run it, simply execute:\n",
    "\n",
    "  `uv run hello.py`\n",
    "\n",
    "When you run this command:\n",
    " - You'll see the message: **\"Hello from the first-uv-project\"**.\n",
    " - The virtual environment (.venv) is created automatically, so you don’t need to activate it manually.\n",
    "\n",
    "**Note:** Even if your development environment (like VS Code or Jupyter Notebook) detects other virtual environments (e.g., from Poetry), the command uv run will always use the UV environment because you're explicitly invoking it. \n",
    "\n",
    "#### 4. About the `.python-version` File: \n",
    "\n",
    "- This file makes it easy to switch your Python version:\n",
    "  - **Click** on the file to change the version.\n",
    "  - If you update the version here, make sure to also update the Python version requirement in `pyproject.toml` if needed."
   ]
  },
  {
   "cell_type": "markdown",
   "metadata": {},
   "source": [
    "**Final Note:**\n",
    "\n",
    "You've learned how to initialize a project with UV, which sets up the necessary file structure.\n",
    "\n",
    "**The Next Step: Building Packages**\n",
    "\n",
    "So far, you've only created the file structure. The next step is to build packages for the developer community.\n",
    "\n",
    "**For Example:**\n",
    "Google Gemini uses the OpenAI SDK (a package) to interact with its services.\n",
    "\n",
    "If you want to build a package similar to that SDK, you'll need to follow a specific structure. The steps for creating a package are covered in the next section: **`03_uv_package_init.ipynb.`**\n",
    "\n"
   ]
  }
 ],
 "metadata": {
  "kernelspec": {
   "display_name": "first-project-8hIcsJoR-py3.13",
   "language": "python",
   "name": "python3"
  },
  "language_info": {
   "codemirror_mode": {
    "name": "ipython",
    "version": 3
   },
   "file_extension": ".py",
   "mimetype": "text/x-python",
   "name": "python",
   "nbconvert_exporter": "python",
   "pygments_lexer": "ipython3",
   "version": "3.13.0"
  }
 },
 "nbformat": 4,
 "nbformat_minor": 2
}
