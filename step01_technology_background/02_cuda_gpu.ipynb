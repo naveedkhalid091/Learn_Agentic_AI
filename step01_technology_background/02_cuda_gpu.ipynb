{
  "nbformat": 4,
  "nbformat_minor": 0,
  "metadata": {
    "colab": {
      "provenance": [],
      "authorship_tag": "ABX9TyOIqrSFoq63XIdfF+EGz2LS",
      "include_colab_link": true
    },
    "kernelspec": {
      "name": "python3",
      "display_name": "Python 3"
    },
    "language_info": {
      "name": "python"
    }
  },
  "cells": [
    {
      "cell_type": "markdown",
      "metadata": {
        "id": "view-in-github",
        "colab_type": "text"
      },
      "source": [
        "<a href=\"https://colab.research.google.com/github/naveedkhalid091/Learn_Agentic_AI/blob/main/step01_technology_background/02_cuda_gpu.ipynb\" target=\"_parent\"><img src=\"https://colab.research.google.com/assets/colab-badge.svg\" alt=\"Open In Colab\"/></a>"
      ]
    },
    {
      "cell_type": "markdown",
      "source": [
        "##CUDA GPU\n",
        "\n",
        "CUDA stands for Compute Unified Device Architecture, and it's a parallel computing platform and programming model created by Nvidia.\n",
        "\n",
        "It allows developers to write software that can harness the power of Nvidia GPUs (Graphics Processing Units) to perform general-purpose computing tasks, not just graphics rendering, meaning that Developers can create the softwere using any programing language like python or C++ and then can run that software in the CUDA GPU for faster processing.\n",
        "\n",
        "Gaming industries got boom due to the CUDA GPU's invention in 2006.\n",
        "\n",
        "#### In Practical Terms:\n",
        "\n",
        "1. **You Write Code:** You write the program in a coding language like C++ or Python.\n",
        "2. **Use CUDA:** You use CUDA libraries to enable the code to run on the Nvidia GPU. The GPU can then do many calculations at once, which is much faster than a traditional CPU.\n",
        "3. **VS Code:** You use VS Code as your editor to write this code. Once written, you can compile or run the software directly from there (or using terminal/command line tools).\n",
        "\n",
        "So in essence, it means you can create software (code) using a programming language, and by using CUDA, you can make the program run on a GPU for faster processing."
      ],
      "metadata": {
        "id": "JEzuMWkoOP9J"
      }
    },
    {
      "cell_type": "code",
      "execution_count": null,
      "metadata": {
        "id": "MM0hBfxjMyyO"
      },
      "outputs": [],
      "source": []
    }
  ]
}