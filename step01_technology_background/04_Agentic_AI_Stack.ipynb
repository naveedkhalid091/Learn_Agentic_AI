{
  "nbformat": 4,
  "nbformat_minor": 0,
  "metadata": {
    "colab": {
      "provenance": [],
      "authorship_tag": "ABX9TyM+kwjBUb67gPfFmOocKrqm",
      "include_colab_link": true
    },
    "kernelspec": {
      "name": "python3",
      "display_name": "Python 3"
    },
    "language_info": {
      "name": "python"
    }
  },
  "cells": [
    {
      "cell_type": "markdown",
      "metadata": {
        "id": "view-in-github",
        "colab_type": "text"
      },
      "source": [
        "<a href=\"https://colab.research.google.com/github/naveedkhalid091/Learn_Agentic_AI/blob/main/step01_technology_background/04_Agentic_AI_Stack.ipynb\" target=\"_parent\"><img src=\"https://colab.research.google.com/assets/colab-badge.svg\" alt=\"Open In Colab\"/></a>"
      ]
    },
    {
      "cell_type": "markdown",
      "source": [
        "## Agentic AI Stack:\n",
        "\n",
        "Agentic AI stack refers to as the set of technologies are required to make an AI agent.\n",
        "\n",
        "Currently there are alot of agents prepared by the developers community, some important AI agents' are given below:\n",
        "\n",
        "1. Replit -  Agent for creating websites - https://replit.com/ai\n",
        "2. Decagon - Customer Service Agent  - https://decagon.ai/\n",
        "3. SIERRA - Customer Service Agent - https://sierra.ai/\n",
        "4. FACTORY - Software Engineering Agent - https://www.factory.ai/\n",
        "5. Lindy - Automate Lead Generation, Emails, Customer Support, Scheduling etc https://www.lindy.ai/\n",
        "6. Perplexity - GenAI Model\n",
        "7. MultiOn -\n",
        "8. Congnition -\n",
        "9. All Hands\n",
        "10. 11x\n",
        "\n",
        "\n",
        "\n"
      ],
      "metadata": {
        "id": "sC3BCvAsbORX"
      }
    },
    {
      "cell_type": "markdown",
      "source": [
        "## AI Agent Hosting Providers/Services:\n",
        "\n",
        "AI agent hosting services are required to deploy, scale, and manage AI agents.\n",
        "\n",
        "1. Letta\n",
        "2. LangGraph\n",
        "3. Agents API\n",
        "4. Amazon Bedrock Agents\n",
        "5. Assistants API\n",
        "6. LiveKit Agents"
      ],
      "metadata": {
        "id": "YjIV-ibZEEL9"
      }
    },
    {
      "cell_type": "markdown",
      "source": [
        "## Observability / Monitoring Services of Web Agents:\n",
        "\n",
        "AI agents need monitoring to ensure they function as expected, optimize performance, and debug issues. Observability tools provide insights into how an agent is operating.\n",
        "\n",
        "**Roles:**\n",
        "- **Error logging**: Tracks failures or errors in real-time.\n",
        "- **Performance monitoring**: Measures latency, response quality, and model accuracy.\n",
        "- **Debugging**: Helps diagnose issues in live agents.\n",
        "\n",
        "Below are the Monitoring service providers:\n",
        "\n",
        "1. LangSmith\n",
        "2. Arize\n",
        "3. Weave\n",
        "4. Langfuse\n",
        "5. AgentOps.ai\n",
        "6. Braintrust"
      ],
      "metadata": {
        "id": "0pL03DiFEgDH"
      }
    },
    {
      "cell_type": "markdown",
      "source": [
        "## Agent Frameworks\n",
        "\n",
        "Frameworks provide the infrastructure and utilities required to create, train, and deploy AI agents efficiently. They abstract complexity and offer pre-built solutions for common tasks.\n",
        "\n",
        "Below are the frameworks available in the Market for the development of AI Agents:\n",
        "\n",
        "1. Letta\n",
        "2. LangGraph\n",
        "3. AutoGen\n",
        "4. LlamaIndex\n",
        "5. CrewAI\n",
        "6. DSPy\n",
        "7. phidata\n",
        "8. Semantic Kernel\n",
        "9. AUTOGPT"
      ],
      "metadata": {
        "id": "94AE1jetE48k"
      }
    },
    {
      "cell_type": "markdown",
      "source": [
        "## Memory:\n",
        "\n",
        "Memory enables AI agents to retain information across interactions.\n",
        "Below are the memory provider to AI agents mentioned below:\n",
        "\n",
        "1. MemGPT\n",
        "2. zep\n",
        "3. LangMem\n",
        "4. memO\n",
        "\n"
      ],
      "metadata": {
        "id": "VanPeSdwFVHh"
      }
    },
    {
      "cell_type": "markdown",
      "source": [
        "## Tool Libraries\n",
        "\n",
        "AI agents often need external tools or APIs to perform tasks such as browsing the web, accessing databases, or generating specific outputs.\n",
        "\n",
        "Below are the Tool libraries used in AI Agents\n",
        "\n",
        "1. composio\n",
        "2. Browserbase\n",
        "3. exa\n"
      ],
      "metadata": {
        "id": "cY9OWlxVFnrT"
      }
    },
    {
      "cell_type": "markdown",
      "source": [
        "## Sand Boxes\n",
        "\n",
        "Sandboxes provide safe, isolated environments for testing and running agents before deploying them to production.\n",
        "\n",
        "Below are the Sand boxes:\n",
        "\n",
        "1. E2B\n",
        "2. Modal"
      ],
      "metadata": {
        "id": "zBBksCvfFxgn"
      }
    },
    {
      "cell_type": "markdown",
      "source": [
        "## Serving Models\n",
        "\n",
        "AI agents rely on foundational models (LLMs) for understanding and generating responses.\n",
        "\n",
        "Examples of Serving Models are:\n",
        "\n",
        "1. LLM\n",
        "2. ollama\n",
        "3. LM studio\n",
        "4. SGL\n",
        "5. together AI\n",
        "6. OpenAI\n",
        "7. Gemini\n",
        "8. ANTHROP\\C\n",
        "9. groq"
      ],
      "metadata": {
        "id": "V1qrsAOQF4sH"
      }
    },
    {
      "cell_type": "markdown",
      "source": [
        "## Storage\n",
        "\n",
        "AI agents need to store structured and unstructured data for training, querying, or reference. This includes embeddings, databases, and logs.\n",
        "\n",
        "1. SupaBase\n",
        "2. NEON\n",
        "3. PineCone\n",
        "4. Weaviate\n",
        "5. milvus\n",
        "6. Chroma\n",
        "7. drant"
      ],
      "metadata": {
        "id": "pFKqz17yGTvZ"
      }
    }
  ]
}