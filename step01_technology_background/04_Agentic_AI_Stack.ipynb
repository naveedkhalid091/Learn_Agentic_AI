{
  "nbformat": 4,
  "nbformat_minor": 0,
  "metadata": {
    "colab": {
      "provenance": [],
      "authorship_tag": "ABX9TyNLt7k5W9S7RZrZF5OBWxR1",
      "include_colab_link": true
    },
    "kernelspec": {
      "name": "python3",
      "display_name": "Python 3"
    },
    "language_info": {
      "name": "python"
    }
  },
  "cells": [
    {
      "cell_type": "markdown",
      "metadata": {
        "id": "view-in-github",
        "colab_type": "text"
      },
      "source": [
        "<a href=\"https://colab.research.google.com/github/naveedkhalid091/Learn_Agentic_AI/blob/main/step01_technology_background/04_Agentic_AI_Stack.ipynb\" target=\"_parent\"><img src=\"https://colab.research.google.com/assets/colab-badge.svg\" alt=\"Open In Colab\"/></a>"
      ]
    },
    {
      "cell_type": "markdown",
      "source": [
        "## Agentic AI Stack:\n",
        "\n",
        "Agentic AI stack refers to as the set of technologies are required to make an AI agent.\n",
        "\n",
        "Currently there are alot of agents prepared by the developers community, some important AI agents' are given below:\n",
        "\n",
        "1. Replit - https://replit.com/ai  (Agent for creating websites)\n",
        "2. S\n",
        "\n"
      ],
      "metadata": {
        "id": "sC3BCvAsbORX"
      }
    }
  ]
}