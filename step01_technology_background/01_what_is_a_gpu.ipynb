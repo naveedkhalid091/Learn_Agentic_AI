{
  "nbformat": 4,
  "nbformat_minor": 0,
  "metadata": {
    "colab": {
      "provenance": [],
      "toc_visible": true,
      "authorship_tag": "ABX9TyMSGLZuzAodE7HQXVauFURu",
      "include_colab_link": true
    },
    "kernelspec": {
      "name": "python3",
      "display_name": "Python 3"
    },
    "language_info": {
      "name": "python"
    }
  },
  "cells": [
    {
      "cell_type": "markdown",
      "metadata": {
        "id": "view-in-github",
        "colab_type": "text"
      },
      "source": [
        "<a href=\"https://colab.research.google.com/github/naveedkhalid091/Learn_Agentic_AI/blob/main/step01_technology_background/01_what_is_a_gpu.ipynb\" target=\"_parent\"><img src=\"https://colab.research.google.com/assets/colab-badge.svg\" alt=\"Open In Colab\"/></a>"
      ]
    },
    {
      "cell_type": "markdown",
      "source": [
        "# What is a CPU & GPU?\n",
        "\n",
        "## CPU (Central Processing Unit):\n",
        "The CPU is often referred to as the \"brain\" of a computer because it performs the following key functions:\n",
        "\n",
        "1. Arithmetic and Logical Operations (ALU)\n",
        " - Executes mathematical operations (e.g., addition, subtraction, multiplication, division).\n",
        " - Performs logical comparisons (e.g., greater than, less than, equal to).  \n",
        "\n",
        "2. Control Unit Operations(CU):\n",
        " - Decodes/follow instructions and sends signals to execute them.\n",
        "3. Memory unit (MU): Memory Units (MU) are components used to store data temporarily or permanently.\n",
        "\n",
        "\n",
        "## GPU\n",
        "\n",
        "A GPU (Graphics Processing Unit) is a specialized processor designed to:\n",
        " - Accelerate graphics rendering.\n",
        " - Performing parallel tasks efficiently.\n",
        "\n",
        "### Key Features of a GPU:\n",
        "\n",
        "1. Parallel Processing Power:\n",
        "  - GPUs are designed with thousands of smaller, efficient cores that can perform calculations simultaneously.\n",
        "  - This makes them ideal for tasks that require processing large amounts of data in parallel, such as rendering images, video processing, and scientific computations.\n",
        "2. Specialization in Graphics:\n",
        "  - GPUs are optimized for rendering 2D and 3D graphics, enabling smooth visual performance in video games, animations, and graphical user interfaces.\n",
        "\n",
        "### Components of GPUs:\n",
        "1. **CUDA Cores or Stream Processors**:\n",
        "  - Execute parallel operations on large data sets.\n",
        "  - In NVIDIA GPUs, they are called CUDA Cores, while AMD refers to them as Stream Processors.\n",
        "   \n",
        "2. **Memory (VRAM):** High-speed memory for storing images and textures.\n",
        "\n",
        "3. **Tensor Cores:**\n",
        " - Specialized cores found in modern GPUs (e.g., NVIDIA) designed for AI and machine learning tasks.\n",
        " - Perform tensor operations efficiently, which are critical for training and inference in neural networks.\n",
        "\n",
        "### Use Cases:\n",
        "\n",
        "- Rendering 3D graphics in video games.\n",
        "- Training machine learning models.\n",
        "- Video editing and processing.\n",
        "- Running complex simulations and scientific computations.\n",
        "\n",
        "\n",
        "### Comparison with a GPU:\n",
        "\n",
        "| **Feature**           | **CPU**                               | **GPU**                               |\n",
        "|------------------------|---------------------------------------|---------------------------------------|\n",
        "| **Core Count**         | Few (powerful cores)                 | Thousands (smaller cores)             |\n",
        "| **Processing Type**    | Sequential and general-purpose       | Parallel and specialized              |\n",
        "| **Performance Focus**  | Low latency                          | High throughput                       |\n",
        "| **Best For**           | Everyday computing, logic-heavy tasks| Graphics rendering, parallel tasks    |\n",
        "\n"
      ],
      "metadata": {
        "id": "Jjs7g-zbqrv9"
      }
    },
    {
      "cell_type": "markdown",
      "source": [
        "# The Role of GPUs in the Rise of Agentic AI:\n",
        "\n",
        "The rise of Agentic AI—which refers to artificial intelligence systems that can autonomously make decisions, take actions, and achieve specific goals—has been significantly enabled by the increasing power of Graphics Processing Units (GPUs). Here’s a breakdown of how GPUs have played a crucial role in this development:\n",
        "\n",
        "\n",
        "1. **Parallel Processing Power**: GPUs are designed to handle multiple operations simultaneously, this parallelism allows AI models, especially deep learning models used in Agentic AI, to process massive amounts of data quickly. Training complex AI models.\n"
      ],
      "metadata": {
        "id": "FmuWVIfMzj5b"
      }
    },
    {
      "cell_type": "markdown",
      "source": [
        "## GPU Manufacturing Companies:\n",
        "\n",
        "- **Nvidia** designs the **architecture** of GPUs, including the GeForce RTX 4090, but they **outsource** the manufacturing of the **semiconductor chips** to companies like **TSMC** (Taiwan Semiconductor Manufacturing Company). **TSMC** is a leading manufacturer of advanced chips used in **GPUs**, **CPUs** and other high-performance technologies.    \n",
        "Nvidia is currently designing the GPUs using a 4nm node. The latest technology of Nvidia is Blackwell.\n",
        "\n",
        "There are other companies which are designing and febricating the GPUs. examples of other companies are AMD(Febricated by TSMC), APPLE(Febricated by TSMC), Samsung-Qualcomm SnapDradon8 Gen3 4nm(Febricated by TSMC),Intel (Self Febricated plant).\n",
        "\n",
        "\n",
        "For AI related operations you are required to know that the multi tasking GPUs are well suited for the AI processing."
      ],
      "metadata": {
        "id": "MMmwztmb6vy3"
      }
    },
    {
      "cell_type": "markdown",
      "source": [
        "## Nvidia's Blackwell GPUs:\n",
        "\n",
        "NVIDIA's Blackwell architecture represents a significant advancement in GPU technology, tailored to meet the escalating demands of artificial intelligence (AI) and high-performance computing (HPC). Unveiled in March 2024, Blackwell GPUs are engineered to deliver exceptional performance, scalability, and efficiency, positioning them as pivotal components in the progression of AI and machine learning applications.\n",
        "\n",
        "#### Key Features of NVIDIA Blackwell GPUs\n",
        "\n",
        "- **Advanced Manufacturing Process:** Blackwell GPUs are fabricated using TSMC's custom 4NP process node, an enhancement of the 4N node utilized in previous architectures. This process incorporates additional metal layers, enabling a 30% increase in transistor count per compute die compared to the prior generation.\n",
        "- **Confidential Computing:** Incorporating NVIDIA Confidential Computing, Blackwell GPUs provide hardware-based security to protect sensitive data and AI models from unauthorized access. They are the first GPUs to feature TEE-I/O capabilities, ensuring secure data handling across the system.\n",
        "\n",
        "**Performance and Efficiency**\n",
        "\n",
        "The Blackwell architecture delivers substantial improvements over its predecessors, offering up to 30 times more performance and 25 times greater energy efficiency. These enhancements are crucial for training large-scale AI models and executing complex HPC tasks, addressing the growing computational demands in these fields.\n",
        "\n",
        "**Market Adoption and Demand**\n",
        "\n",
        "Since their introduction, Blackwell GPUs have experienced unprecedented demand, with supply reportedly sold out for the next 12 months. Major technology companies, including AWS, Google, Meta, Microsoft, and Oracle, have placed substantial orders, underscoring the industry's reliance on NVIDIA's cutting-edge hardware for AI and HPC workloads.\n",
        "\n",
        "**Manufacturing and Supply Chain**\n",
        "\n",
        "To meet the high demand, NVIDIA is collaborating with TSMC to produce Blackwell AI chips at TSMC's new facility in Arizona, with production expected to commence early next year. However, certain processes, such as final packaging, will still be completed in Taiwan due to specific facility requirements.\n",
        "\n",
        "**Conclusion**\n",
        "\n",
        "NVIDIA's Blackwell GPUs represent a significant leap in GPU technology, offering unparalleled performance and efficiency tailored for the evolving needs of AI and HPC applications. Their advanced architecture and widespread industry adoption highlight NVIDIA's continued leadership in the GPU market, driving innovation and enabling new possibilities in computing.\n",
        "\n"
      ],
      "metadata": {
        "id": "9hOHxR4WKK1n"
      }
    }
  ]
}