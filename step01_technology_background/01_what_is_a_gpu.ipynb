{
  "nbformat": 4,
  "nbformat_minor": 0,
  "metadata": {
    "colab": {
      "provenance": [],
      "toc_visible": true,
      "authorship_tag": "ABX9TyNQ8UbUaV9FJbmbN86lo1o7",
      "include_colab_link": true
    },
    "kernelspec": {
      "name": "python3",
      "display_name": "Python 3"
    },
    "language_info": {
      "name": "python"
    }
  },
  "cells": [
    {
      "cell_type": "markdown",
      "metadata": {
        "id": "view-in-github",
        "colab_type": "text"
      },
      "source": [
        "<a href=\"https://colab.research.google.com/github/naveedkhalid091/Learn_Agentic_AI/blob/main/step01_technology_background/01_what_is_a_gpu.ipynb\" target=\"_parent\"><img src=\"https://colab.research.google.com/assets/colab-badge.svg\" alt=\"Open In Colab\"/></a>"
      ]
    },
    {
      "cell_type": "markdown",
      "source": [
        "# What is a CPU & GPU?\n",
        "\n",
        "## CPU (Central Processing Unit):\n",
        "The CPU is often referred to as the \"brain\" of a computer because it performs the following key functions:\n",
        "\n",
        "1. Arithmetic and Logical Operations (ALU)\n",
        " - Executes mathematical operations (e.g., addition, subtraction, multiplication, division).\n",
        " - Performs logical comparisons (e.g., greater than, less than, equal to).  \n",
        "\n",
        "2. Control Unit Operations(CU):\n",
        " - Decodes/follow instructions and sends signals to execute them.\n",
        "3. Memory unit (MU): Memory Units (MU) are components used to store data temporarily or permanently.\n",
        "\n",
        "\n",
        "## GPU\n",
        "\n",
        "A GPU (Graphics Processing Unit) is a specialized processor designed to:\n",
        " - Accelerate graphics rendering.\n",
        " - Performing parallel tasks efficiently.\n",
        "\n",
        "### Key Features of a GPU:\n",
        "\n",
        "1. Parallel Processing Power:\n",
        "  - GPUs are designed with thousands of smaller, efficient cores that can perform calculations simultaneously.\n",
        "  - This makes them ideal for tasks that require processing large amounts of data in parallel, such as rendering images, video processing, and scientific computations.\n",
        "2. Specialization in Graphics:\n",
        "  - GPUs are optimized for rendering 2D and 3D graphics, enabling smooth visual performance in video games, animations, and graphical user interfaces.\n",
        "\n",
        "### Components of GPUs:\n",
        "1. **CUDA Cores or Stream Processors**:\n",
        "  - Execute parallel operations on large data sets.\n",
        "  - In NVIDIA GPUs, they are called CUDA Cores, while AMD refers to them as Stream Processors.\n",
        "   \n",
        "2. **Memory (VRAM):** High-speed memory for storing images and textures.\n",
        "\n",
        "3. **Tensor Cores:**\n",
        " - Specialized cores found in modern GPUs (e.g., NVIDIA) designed for AI and machine learning tasks.\n",
        " - Perform tensor operations efficiently, which are critical for training and inference in neural networks.\n",
        "\n",
        "### Use Cases:\n",
        "\n",
        "- Rendering 3D graphics in video games.\n",
        "- Training machine learning models.\n",
        "- Video editing and processing.\n",
        "- Running complex simulations and scientific computations.\n",
        "\n",
        "\n",
        "### Comparison with a GPU:\n",
        "\n",
        "| **Feature**           | **CPU**                               | **GPU**                               |\n",
        "|------------------------|---------------------------------------|---------------------------------------|\n",
        "| **Core Count**         | Few (powerful cores)                 | Thousands (smaller cores)             |\n",
        "| **Processing Type**    | Sequential and general-purpose       | Parallel and specialized              |\n",
        "| **Performance Focus**  | Low latency                          | High throughput                       |\n",
        "| **Best For**           | Everyday computing, logic-heavy tasks| Graphics rendering, parallel tasks    |\n",
        "\n"
      ],
      "metadata": {
        "id": "Jjs7g-zbqrv9"
      }
    },
    {
      "cell_type": "markdown",
      "source": [
        "# The Role of GPUs in the Rise of Agentic AI:\n",
        "\n",
        "The rise of Agentic AI—which refers to artificial intelligence systems that can autonomously make decisions, take actions, and achieve specific goals—has been significantly enabled by the increasing power of Graphics Processing Units (GPUs). Here’s a breakdown of how GPUs have played a crucial role in this development:\n",
        "\n",
        "\n",
        "1. **Parallel Processing Power**: GPUs are designed to handle multiple operations simultaneously, this parallelism allows AI models, especially deep learning models used in Agentic AI, to process massive amounts of data quickly. Training complex AI models.\n"
      ],
      "metadata": {
        "id": "FmuWVIfMzj5b"
      }
    }
  ]
}