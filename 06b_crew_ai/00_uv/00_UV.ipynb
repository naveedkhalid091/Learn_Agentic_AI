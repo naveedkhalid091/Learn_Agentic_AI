{
  "nbformat": 4,
  "nbformat_minor": 0,
  "metadata": {
    "colab": {
      "provenance": [],
      "authorship_tag": "ABX9TyOnq7Iagama9/z6sHJP7xt6",
      "include_colab_link": true
    },
    "kernelspec": {
      "name": "python3",
      "display_name": "Python 3"
    },
    "language_info": {
      "name": "python"
    }
  },
  "cells": [
    {
      "cell_type": "markdown",
      "metadata": {
        "id": "view-in-github",
        "colab_type": "text"
      },
      "source": [
        "<a href=\"https://colab.research.google.com/github/naveedkhalid091/Learn_Agentic_AI/blob/main/06b_crew_ai/00_uv/00_UV.ipynb\" target=\"_parent\"><img src=\"https://colab.research.google.com/assets/colab-badge.svg\" alt=\"Open In Colab\"/></a>"
      ]
    },
    {
      "cell_type": "markdown",
      "source": [
        "# **What Is UV?**\n",
        "\n",
        "UV is a new, all-in-one Python project and package manager that aims to simplify and speed up the way you work with Python projects. Here’s a breakdown in simple terms:\n",
        "\n",
        "Click on the **[UV official Docs link](https://docs.astral.sh/uv/)** if you wanted to learn UV from the official documentation. However I am providing useful infromation regarding UV below:\n",
        "\n",
        "**Highlights:**\n",
        "- A single tool to replace `pip`, `pip-tools`, `pipx`, `poetry`, `pyenv`, `twine`, `virtualenv`, and more.\n",
        "- 10-100x faster than pip.\n",
        "- Provides comprehensive project management, with a universal lockfile.\n",
        "- Installs and manages Python versions.\n",
        "- Runs and installs tools published as Python packages.\n",
        "- Disk-space efficient, with a global cache for dependency deduplication.\n",
        "- Installable without Rust or Python via `curl` or `pip`.\n",
        "- Supports macOS, Linux, and Windows."
      ],
      "metadata": {
        "id": "0iF-X9vISI7H"
      }
    },
    {
      "cell_type": "markdown",
      "source": [
        "- **A Single Tool for Many Tasks:**\n",
        "UV is designed to replace several separate tools you might already use for Python projects. Instead of using pip (to install packages), pip-tools (to resolve dependencies), pipx (to run command‐line tools in isolated environments), virtualenv/pyenv (for creating and managing virtual environments), and even parts of Poetry (for managing project metadata and dependencies), UV combines all these functions into one tool.\n",
        "- **Built in Rust for Speed:** Unlike many existing Python tools (which are written in Python), UV is implemented in Rust. This makes many operations—like resolving dependencies and creating virtual environments—much faster (often 10–100 times faster) than traditional methods.\n",
        "- **Unified Project Workflow:** UV uses a standard configuration file **`(pyproject.toml)`** to store project metadata and dependencies and creates its own lock file (uv.lock) for reproducible installations. It also provides commands like **`uv init`** (to start a new project), **`uv add`** (to add dependencies), **`uv sync`** (to update the project environment), and **`uv run`** (to execute scripts without manually activating a virtual environment).\n"
      ],
      "metadata": {
        "id": "yrV4x3pOSU-G"
      }
    },
    {
      "cell_type": "markdown",
      "source": [
        "## Installation:\n",
        "\n",
        "Install uv with our official standalone installer:"
      ],
      "metadata": {
        "id": "ZHLUSJbeTsUE"
      }
    },
    {
      "cell_type": "code",
      "source": [
        "# windows command\n",
        " powershell -c \"irm https://astral.sh/uv/install.ps1 | iex\""
      ],
      "metadata": {
        "id": "w2Vl8jVOWrcU"
      },
      "execution_count": null,
      "outputs": []
    }
  ]
}