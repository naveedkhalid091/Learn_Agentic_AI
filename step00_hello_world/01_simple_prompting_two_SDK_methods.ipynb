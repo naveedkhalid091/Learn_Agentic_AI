{
  "nbformat": 4,
  "nbformat_minor": 0,
  "metadata": {
    "colab": {
      "provenance": [],
      "authorship_tag": "ABX9TyO7MvoMRN2ONwiApZWsx8zb",
      "include_colab_link": true
    },
    "kernelspec": {
      "name": "python3",
      "display_name": "Python 3"
    },
    "language_info": {
      "name": "python"
    }
  },
  "cells": [
    {
      "cell_type": "markdown",
      "metadata": {
        "id": "view-in-github",
        "colab_type": "text"
      },
      "source": [
        "<a href=\"https://colab.research.google.com/github/naveedkhalid091/Learn_Agentic_AI/blob/main/step00_hello_world/01_simple_prompting_two_SDK_methods.ipynb\" target=\"_parent\"><img src=\"https://colab.research.google.com/assets/colab-badge.svg\" alt=\"Open In Colab\"/></a>"
      ]
    },
    {
      "cell_type": "markdown",
      "source": [
        "# Steps to prompt with google's Generative AI (Without Langchain)\n",
        "\n",
        "You can normally prompt through the Gemini by installing the following two SDKs.  "
      ],
      "metadata": {
        "id": "1HyHFvWtB2Yy"
      }
    },
    {
      "cell_type": "code",
      "execution_count": 7,
      "metadata": {
        "id": "BZ3_VVuWB1xh"
      },
      "outputs": [],
      "source": [
        "!pip install -U -q \"google-generativeai>=0.7.2\" # Method 1 - SDK"
      ]
    },
    {
      "cell_type": "code",
      "source": [
        "!pip install -U -q google-genai # Method 2 - SDK\n"
      ],
      "metadata": {
        "id": "KzoMHIIoFOZz"
      },
      "execution_count": 8,
      "outputs": []
    },
    {
      "cell_type": "markdown",
      "source": [
        "**Note:** In colab files you don't need to install the python environment because the python environment is already installed and managed by the google colab. You just have to write the command to install the google-generative AI SDK."
      ],
      "metadata": {
        "id": "4eFAbEShFjRN"
      }
    },
    {
      "cell_type": "markdown",
      "source": [
        "Here's a breakdown of each code:\n",
        "\n",
        "**Where:**\n",
        "\n",
        " - **!:** is used in Jupyter notebooks or in google colab to execute the shell commands.\n",
        " - **pip install:** Install python packages.\n",
        " - **-U:** it means upgrade, it ensures the latest version of the package is installed.\n",
        " - **-q:** its means Quiet, it only display the essential inforamtion in the terminal by skipping to display the unrequired information for the developer, It ensures the minimum and required content to display during the packages installation.\n",
        "\n",
        " - **\"google-generativeai>=0.7.2\" (First code)** :  This is the foundational SDK that provides direct access to Google's Generative AI APIs. It offers more granular control and access to the full range of features provided by the API, making it suitable for production environments where stability and comprehensive feature access are crucial.\n",
        "\n",
        " - **google-genai (Second code):** This is a higher-level SDK designed to provide a more user-friendly and Pythonic interface for interacting with Google's Generative AI models. It simplifies many operations, making it suitable for rapid prototyping (which involves creating an early, simplified version of the software, you can test and validate your software at early stages) and development. However, as of December 2024, it's in early development, and its API is subject to change. It may not yet support all features available in the foundational SDK but it works are an agent (intermediary between the developers and the GenAI).\n",
        "\n",
        "**Recommendation:**\n",
        "\n",
        "- For prototyping (testing and validating) and development, `google-genai` offers a simplified interface, which can accelerate the development process.\n",
        "- For production environments requiring stability and full feature access, google-generativeai is the recommended choice due to its maturity and comprehensive capabilities.\n",
        "\n",
        "After Downloading the GenAI SDK, there are further steps which are needed to ensure the prompt is working as expected but both of the above SDK gives the differnt steps to follow, we will learn about both of these SDK;s methods which are given below:\n",
        "\n",
        "\n"
      ],
      "metadata": {
        "id": "m4cjF1wpFixb"
      }
    },
    {
      "cell_type": "markdown",
      "source": [
        "# 1. Prompt using `!pip install -U -q \"google-generativeai>=0.7.2\"`\n",
        "After installation, you need to follow the below coding steps:\n",
        "\n"
      ],
      "metadata": {
        "id": "e8-hMeVBIWS9"
      }
    },
    {
      "cell_type": "markdown",
      "source": [
        "### Step - 2: Import the GenAI module:"
      ],
      "metadata": {
        "id": "yWMqvkH5KKy3"
      }
    },
    {
      "cell_type": "code",
      "source": [
        "import google.generativeai as genai"
      ],
      "metadata": {
        "id": "Upy8P3wAF9Ls"
      },
      "execution_count": 9,
      "outputs": []
    },
    {
      "cell_type": "markdown",
      "source": [
        "From the above code the `google.generativeai` module will the imported into your machine or colab file.\n",
        "\n",
        "This module will facilitate in prompting, without this module you would not be able to prompt."
      ],
      "metadata": {
        "id": "r8kHJtApJVAz"
      }
    },
    {
      "cell_type": "markdown",
      "source": [
        "### Step - 3: Setup API Key:\n",
        "\n",
        "This step ensures that the only authorized persons are getting access to GenAI model.\n",
        "\n",
        "The sub-steps of gaining access are given below:\n",
        "\n",
        " - Go to AI Studio and log-in there.\n",
        " - Click on the Get API key and copy the generated API from the AI studio.\n",
        " - Now, go to the colab file and click on the secret tab.\n",
        " - Paste your copied `key` into the `value cell` and give a name of your key in the `Name` cell and `Enable the Notebook button` to get access.\n",
        "\n",
        "Finally, copy and paste the below code into your colab file **(This code will be available in the seceret tab)** and finally integrate your colab file with the GenAI to use the GenAI services.  \n"
      ],
      "metadata": {
        "id": "U3QSzt4cKHCi"
      }
    },
    {
      "cell_type": "code",
      "source": [
        "from google.colab import userdata\n",
        "GOOGLE_API_KEY=userdata.get('GOOGLE_API_KEY')\n",
        "genai.configure(api_key=GOOGLE_API_KEY)\n"
      ],
      "metadata": {
        "id": "9l5hTtw1MzWc"
      },
      "execution_count": 10,
      "outputs": []
    },
    {
      "cell_type": "markdown",
      "source": [
        "**Where:**\n",
        "\n",
        "- 1. Above two lines of the code taken from the colab secrets tab under the keys portion\n",
        "- **GOOGLE_API_KEY=userdata.get('GOOGLE_API_KEY')** is basically a part where you bring your secret key into your notebook or this retrieves your API key safely from Colab's secrets tab.\n",
        "- The genai.configure() function is a setup step to make sure the genai library knows you're authorized to use it. You provide an API key to this function, and it tells the library, that you have permission to access the GenAI services.\n",
        "\n",
        "Note: You have now completed your setup and now you can use the GenAI model into your code."
      ],
      "metadata": {
        "id": "tljAlBUyKIaN"
      }
    },
    {
      "cell_type": "markdown",
      "source": [
        "### Step - 4: Selecting Gemini Model:"
      ],
      "metadata": {
        "id": "Mpyg8BvjSUmp"
      }
    },
    {
      "cell_type": "code",
      "source": [
        "model=genai.GenerativeModel(\"gemini-2.0-flash-exp\")"
      ],
      "metadata": {
        "id": "59cYnlfWSeJ5"
      },
      "execution_count": 11,
      "outputs": []
    },
    {
      "cell_type": "markdown",
      "source": [
        "# Step - 5 : Run your First Prompt"
      ],
      "metadata": {
        "id": "_KfrMwg5TKV0"
      }
    },
    {
      "cell_type": "code",
      "source": [
        "response=model.generate_content(\"Do you know about Imran Khan?, comment in one line only\")\n",
        "\n",
        "print(response.text)"
      ],
      "metadata": {
        "colab": {
          "base_uri": "https://localhost:8080/",
          "height": 52
        },
        "id": "HivjYasuTHOJ",
        "outputId": "6e6da243-3c37-45aa-a721-272f5ad549e7"
      },
      "execution_count": 14,
      "outputs": [
        {
          "output_type": "stream",
          "name": "stdout",
          "text": [
            "Yes, he's a former Prime Minister of Pakistan and a former cricket star.\n",
            "\n"
          ]
        }
      ]
    },
    {
      "cell_type": "markdown",
      "source": [
        "**This was the all about the initial prompt introduction with Gemini model using first method.**\n",
        "\n",
        "**Now we will learn prompting through the second method, which is given below**  "
      ],
      "metadata": {
        "id": "S9u50nPmUfJT"
      }
    },
    {
      "cell_type": "markdown",
      "source": [
        "# 2. Prompt using `!pip install -U -q google-genai`\n",
        "\n",
        "After installation, you need to follow the below coding steps:\n"
      ],
      "metadata": {
        "id": "ririGWPcUSkM"
      }
    },
    {
      "cell_type": "markdown",
      "source": [
        "### Step - 2: Import the GenAI module:"
      ],
      "metadata": {
        "id": "MvVtT0Ya8MLe"
      }
    },
    {
      "cell_type": "code",
      "source": [
        "from google import genai"
      ],
      "metadata": {
        "id": "pl_SB0E-USH0"
      },
      "execution_count": 2,
      "outputs": []
    },
    {
      "cell_type": "markdown",
      "source": [
        "### Step - 3: Setup API Key:\n",
        "\n",
        "This step ensures that the only authorized persons are getting access to GenAI model.\n",
        "\n",
        "The sub-steps of gaining access are given below:\n",
        "\n",
        " - Go to AI Studio and log-in there.\n",
        " - Click on the Get API key and copy the generated API from the AI studio.\n",
        " - Now, go to the colab file and click on the secret tab.\n",
        " - Paste your copied `key` into the `value cell` and give a name of your key in the `Name` cell and `Enable the Notebook button` to get access.\n",
        ""
      ],
      "metadata": {
        "id": "7gOUvGmt83sS"
      }
    },
    {
      "cell_type": "code",
      "source": [
        "from google.colab import userdata\n",
        "import os\n",
        "os.environ['GOOGLE_API_KEY'] = userdata.get('GOOGLE_API_KEY') # Where GOOGLE_API_KEY is the secret code"
      ],
      "metadata": {
        "id": "KJlVk_9O9feV"
      },
      "execution_count": 3,
      "outputs": []
    },
    {
      "cell_type": "markdown",
      "source": [
        "### Step-4: Creating a client instance:\n",
        "\n",
        "This is an additional mandatory step because the `genai` SDK acts as a higher-level intermediary between the developer and the generative AI.\n",
        "\n",
        "Therefore, we need to `create a client` to serve as the intermediary for conversations, meaning we will use this client to interact with the LLM."
      ],
      "metadata": {
        "id": "h_UKVPeB9xjY"
      }
    },
    {
      "cell_type": "code",
      "source": [
        "client=genai.Client()"
      ],
      "metadata": {
        "id": "hHj25-Z8ALWl"
      },
      "execution_count": 5,
      "outputs": []
    },
    {
      "cell_type": "markdown",
      "source": [
        "## Run your first prompt using another SDK method:\n",
        "\n",
        "\n",
        "\n",
        "\n"
      ],
      "metadata": {
        "id": "TaNHeubQFk7T"
      }
    },
    {
      "cell_type": "code",
      "source": [
        "response = client.models.generate_content(\n",
        "    model=\"gemini-2.0-flash-exp\",\n",
        "    contents=\"Do you know about Imran Khan?, comment in one line only\"\n",
        ")\n",
        "\n",
        "print(response.text)"
      ],
      "metadata": {
        "colab": {
          "base_uri": "https://localhost:8080/"
        },
        "id": "8YljdrWbFYIi",
        "outputId": "cd9e1c56-d15b-4496-8fd6-cffaa9a0c8db"
      },
      "execution_count": 8,
      "outputs": [
        {
          "output_type": "stream",
          "name": "stdout",
          "text": [
            "Yes, he is a former Prime Minister of Pakistan and a former cricket star.\n",
            "\n"
          ]
        }
      ]
    }
  ]
}