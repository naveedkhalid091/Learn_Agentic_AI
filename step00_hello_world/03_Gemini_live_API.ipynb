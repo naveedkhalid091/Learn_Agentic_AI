{
  "nbformat": 4,
  "nbformat_minor": 0,
  "metadata": {
    "colab": {
      "provenance": [],
      "authorship_tag": "ABX9TyNZWp5+f3ioiqdlMI8hlVMT",
      "include_colab_link": true
    },
    "kernelspec": {
      "name": "python3",
      "display_name": "Python 3"
    },
    "language_info": {
      "name": "python"
    }
  },
  "cells": [
    {
      "cell_type": "markdown",
      "metadata": {
        "id": "view-in-github",
        "colab_type": "text"
      },
      "source": [
        "<a href=\"https://colab.research.google.com/github/naveedkhalid091/Learn_Agentic_AI/blob/main/step00_hello_world/03_Gemini_live_API.ipynb\" target=\"_parent\"><img src=\"https://colab.research.google.com/assets/colab-badge.svg\" alt=\"Open In Colab\"/></a>"
      ]
    },
    {
      "cell_type": "markdown",
      "source": [
        "## Gemini LIVE API HELLOWORLD:\n",
        "\n",
        "There were different type of APIs which were not asynchronous, no audio and video support. Now, all of these limitations have been covered in Gemini 2.0, these are now being called as `Gemini Live API`.\n",
        "\n",
        "This is a new model which is a model of `Agentic AI`.\n",
        "\n",
        "We will learn it below:\n",
        "\n",
        "The Google Gemini 2 has some advance features.\n",
        "\n",
        "1. In this `Live API` the model can talk, visualize and analyze the things/content same as human by turning the camera on or sharing your screen with Gemini AI model.\n",
        "\n",
        "2. Gemini can now adjusts its interaction style based on your IQ (intelligence quotient) and EQ (emotional intelligence). Conversations feel natural and are tailored to your intellectual and emotional context\n",
        "\n",
        "3. Gemini can control your device activities, through calling APIs. Tasks such as sending E-mails automatically, Liking or disliking the social media posts, Tracking activitites and many more can be automated.\n",
        "\n",
        "However, We will learn it later on.\n",
        "\n",
        "You can try the `live demo` by going to the Gemini AI studio.\n",
        "\n",
        "Step#1 - Go to the AI Studio.\n",
        "Step#2 - Click on the second option `Stream Realtime`\n",
        "Step#3 - You will have multiple options of `Talk of Gemini`, `Show Gemini` and `Share your Screen` by Scrolling down a little bit.\n",
        "\n",
        "## Setup:\n",
        "\n",
        "#### Install SDK\n",
        "\n",
        "The new Google Gen AI SDK provides programmatic access to Gemini 2.0 (and previous models) using both the Google AI for Developers and Vertex AI APIs.\n",
        "\n",
        "\n",
        "\n"
      ],
      "metadata": {
        "id": "O7AtokPoxQpM"
      }
    },
    {
      "cell_type": "code",
      "execution_count": 1,
      "metadata": {
        "id": "AztFDNxAxL5L"
      },
      "outputs": [],
      "source": [
        "!pip install -U -q google-genai  # Client side SDK"
      ]
    },
    {
      "cell_type": "markdown",
      "source": [
        "### Why SDK is required to install?\n",
        "\n",
        "A Python SDK (Software Development Kit) is a collection of tools, libraries, and documentation provided to help developers integrate and interact with specific APIs using Python. SDKs simplify the development process by offering pre-built functions and modules. Reducing the need for developers to manually write code for tasks like API requests, authentication, and error handling.\n",
        "\n",
        "Features of SDK:\n",
        "\n",
        "- Provides methods (Push,Pull,Delete,Create) and classes for interacting with the platform or service's APIs.\n",
        "- Includes built-in functions to handle authentication (e.g., API keys, OAuth).\n",
        "- Usually includes detailed instructions, code examples, and usage guides.\n",
        "\n",
        "**Note: Python uses pip install for installing a wide variety of packages, which can include SDKs, libraries, or other tools. It can sometimes be unclear whether a package is an SDK, a general-purpose library, or a specific tool. Here are some ways a developer can differentiate:**\n",
        "\n",
        "\n"
      ],
      "metadata": {
        "id": "5T1Fvx78G6FN"
      }
    },
    {
      "cell_type": "markdown",
      "source": [
        "# Setup API Key\n",
        "\n",
        "To run the following cell, your API key must be stored in a Colab Secret named `GOOGLE_API_KEY`.\n",
        "\n",
        "This step is required because you are authorizing the colab file to use the LLM, through a secret code (Generated from the AI studio), This command is mentioned in the colab file.\n",
        "\n"
      ],
      "metadata": {
        "id": "vAZlb7_hCy4C"
      }
    },
    {
      "cell_type": "code",
      "source": [
        "from google.colab import userdata\n",
        "import os\n",
        "\n",
        "os.environ['GOOGLE_API_KEY'] = userdata.get('GOOGLE_API_KEY')"
      ],
      "metadata": {
        "id": "OWBzxStAC2Og"
      },
      "execution_count": 2,
      "outputs": []
    },
    {
      "cell_type": "markdown",
      "source": [
        "## Import:\n",
        "\n",
        "Import all the necessary modules."
      ],
      "metadata": {
        "id": "D5jnOy1uED2f"
      }
    },
    {
      "cell_type": "code",
      "source": [
        "from google import genai"
      ],
      "metadata": {
        "id": "flsZrcicEJYF"
      },
      "execution_count": 3,
      "outputs": []
    },
    {
      "cell_type": "markdown",
      "source": [
        "## Initialize SDK client:\n",
        "\n",
        "The client will pick up your API key from the environment variable. To use the live API you need to set the client version to `v1alpha`.\n",
        "\n"
      ],
      "metadata": {
        "id": "3qpcg7NOEYQ4"
      }
    },
    {
      "cell_type": "code",
      "source": [
        "from google import genai\n",
        "client = genai.Client()"
      ],
      "metadata": {
        "id": "v9QHrxReElAA"
      },
      "execution_count": 4,
      "outputs": []
    },
    {
      "cell_type": "markdown",
      "source": [
        "Explanation of the Code:\n",
        "\n",
        "1. `from google import genai`:\n",
        " - This imports the `genai` module from the google package.\n",
        " - It allows access to the genai submodule, which contains tools, classes, and methods for working with Google's Generative AI API.\n",
        "2. client = genai.Client():\n",
        " - Creates an instance of the Client class.\n",
        " - This `Client` instance acts as the main object for interacting with the Generative AI API."
      ],
      "metadata": {
        "id": "OVKgvBPJiZZS"
      }
    },
    {
      "cell_type": "markdown",
      "source": [
        "## Select a model:\n",
        "\n",
        "Multimodal Live API are a new capability introduced with the Gemini 2.0 model. It won't work with previous generation models."
      ],
      "metadata": {
        "id": "t4_Cmw5GEoli"
      }
    },
    {
      "cell_type": "code",
      "source": [
        "MODEL: str = \"gemini-2.0-flash-exp\""
      ],
      "metadata": {
        "id": "UP9p2M2gEvBJ"
      },
      "execution_count": 5,
      "outputs": []
    },
    {
      "cell_type": "markdown",
      "source": [
        "## Text to Text:\n",
        "\n",
        "The simplest way to use the Live API is as a text-to-text chat interface, but it can do a lot more than this."
      ],
      "metadata": {
        "id": "E3lbibgUE-N8"
      }
    },
    {
      "cell_type": "code",
      "source": [
        "response = client.models.generate_content(\n",
        "    model=MODEL, contents='Who is Imran Khan?'\n",
        ")\n",
        "print(response.text)"
      ],
      "metadata": {
        "colab": {
          "base_uri": "https://localhost:8080/"
        },
        "collapsed": true,
        "id": "kHVoEcfTFF0K",
        "outputId": "8abec5f1-9246-4fb4-f053-55b55554ad6a"
      },
      "execution_count": 6,
      "outputs": [
        {
          "output_type": "stream",
          "name": "stdout",
          "text": [
            "Imran Khan is a prominent Pakistani politician, former international cricketer, and philanthropist. He served as the 22nd Prime Minister of Pakistan from August 2018 to April 2022. Here's a more detailed look at his life and career:\n",
            "\n",
            "**Early Life and Cricket Career:**\n",
            "\n",
            "* **Born:** October 5, 1952, in Lahore, Pakistan.\n",
            "* **Cricket Star:** He was a world-class all-rounder, widely regarded as one of the greatest cricketers of all time. He captained the Pakistan national cricket team to victory in the 1992 Cricket World Cup.\n",
            "* **Iconic Figure:** His charisma and leadership on and off the field made him a national hero in Pakistan. He is known for his powerful bowling and aggressive batting style.\n",
            "* **Charity Work:** After retiring from cricket, he focused on philanthropy, establishing the Shaukat Khanum Memorial Cancer Hospital & Research Centre in Lahore, a free cancer hospital that became a model for charitable healthcare in Pakistan.\n",
            "\n",
            "**Political Career:**\n",
            "\n",
            "* **Founding PTI:** In 1996, he founded the Pakistan Tehreek-e-Insaf (PTI) party, meaning \"Pakistan Movement for Justice.\"\n",
            "* **Anti-Corruption Platform:** PTI initially struggled to gain widespread support, but Khan's consistent message against corruption, inequality, and the established political elites resonated with a growing segment of the population, particularly young people.\n",
            "* **Rise to Power:** After years of campaigning and building grassroots support, PTI won the 2018 general elections, and Khan became Prime Minister.\n",
            "* **Prime Ministerial Policies:** As Prime Minister, Khan focused on:\n",
            "    * **Anti-Corruption:** He launched numerous campaigns to tackle corruption and improve governance.\n",
            "    * **Welfare Programs:** He introduced social welfare programs aimed at poverty alleviation and improving healthcare and education.\n",
            "    * **Independent Foreign Policy:** He pursued a more independent foreign policy, often distancing himself from traditional allies and seeking new partnerships.\n",
            "    * **Environmental Initiatives:** He launched various environmental initiatives, including a large-scale tree planting program.\n",
            "* **Ouster from Power:** Khan was ousted from power in April 2022 through a vote of no confidence, triggered by a coalition of opposition parties.\n",
            "* **Post-Prime Minister:** Since his removal, Khan has maintained a strong political presence, holding large public rallies and criticizing the current government and institutions. He has also faced numerous legal challenges and allegations of corruption.\n",
            "\n",
            "**Key Aspects of His Persona and Politics:**\n",
            "\n",
            "* **Charismatic Leader:** Khan is known for his charisma, oratory skills, and ability to connect with the public.\n",
            "* **Populist Appeal:** He often uses populist rhetoric and blames the country's problems on corruption, the political elite, and foreign interference.\n",
            "* **Anti-Establishment Stance:** He has positioned himself as an outsider fighting against the status quo and entrenched power structures.\n",
            "* **Religious Conservatism:** He is seen as a religiously conservative leader, often using Islamic references in his speeches.\n",
            "* **Criticism:** He has faced criticism for his economic policies, alleged authoritarian tendencies, and strained relations with the military and other institutions.\n",
            "\n",
            "**In Summary:**\n",
            "\n",
            "Imran Khan is a complex and controversial figure who has had a profound impact on Pakistan. He rose to prominence as a cricket legend, then transitioned into a successful politician, promising change and reform. While his supporters view him as a national hero and a champion of the people, his critics question his governance and leadership. He remains a highly influential figure in Pakistani politics and his actions continue to shape the country's landscape.\n",
            "\n"
          ]
        }
      ]
    }
  ]
}