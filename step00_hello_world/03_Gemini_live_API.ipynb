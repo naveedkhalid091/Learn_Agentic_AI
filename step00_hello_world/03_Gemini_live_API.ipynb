{
  "nbformat": 4,
  "nbformat_minor": 0,
  "metadata": {
    "colab": {
      "provenance": [],
      "authorship_tag": "ABX9TyMTKdL6awxkX/mXmJX5WbMl",
      "include_colab_link": true
    },
    "kernelspec": {
      "name": "python3",
      "display_name": "Python 3"
    },
    "language_info": {
      "name": "python"
    }
  },
  "cells": [
    {
      "cell_type": "markdown",
      "metadata": {
        "id": "view-in-github",
        "colab_type": "text"
      },
      "source": [
        "<a href=\"https://colab.research.google.com/github/naveedkhalid091/Learn_Agentic_AI/blob/main/step00_hello_world/03_Gemini_live_API.ipynb\" target=\"_parent\"><img src=\"https://colab.research.google.com/assets/colab-badge.svg\" alt=\"Open In Colab\"/></a>"
      ]
    },
    {
      "cell_type": "markdown",
      "source": [
        "## Gemini LIVE API `Hello world`:\n",
        "\n",
        "In older versions of Gemini, there were different type of APIs which were not asynchronous, no audio and video support. Now, all of these limitations have been covered in Gemini 2.0, these are now being called as `Gemini Live API`.\n",
        "\n",
        "This is a new model which is a model of `Agentic AI`.\n",
        "\n",
        "We will learn it below:\n",
        "\n",
        "The Google Gemini 2 has some advance features.\n",
        "\n",
        "1. In this `Live API` the model can talk, visualize and analyze the things/content same as human by turning the camera on or sharing your screen with Gemini AI model.\n",
        "\n",
        "2. Gemini can now adjusts its interaction style based on your IQ (intelligence quotient) and EQ (emotional intelligence). Conversations feel natural and are tailored to your intellectual and emotional context\n",
        "\n",
        "3. Gemini can control your device activities, through calling APIs. Tasks such as sending E-mails automatically, Liking or disliking the social media posts, Tracking activitites and many more can be automated.\n",
        "\n",
        "However, We will learn it later on.\n",
        "\n",
        "You can try the `live demo` by going to the Gemini AI studio.\n",
        "\n",
        "Step#1 - Go to the AI Studio.\n",
        "Step#2 - Click on the second option `Stream Realtime`\n",
        "Step#3 - You will have multiple options of `Talk of Gemini`, `Show Gemini` and `Share your Screen` by Scrolling down a little bit.\n",
        "\n",
        "## Setup:\n",
        "\n",
        "#### Install SDK\n",
        "\n",
        "The new Google Gen AI SDK provides programmatic access to Gemini 2.0 (and previous models) using both the Google AI for Developers and Vertex AI APIs.\n",
        "\n",
        "\n",
        "\n"
      ],
      "metadata": {
        "id": "O7AtokPoxQpM"
      }
    },
    {
      "cell_type": "code",
      "execution_count": 2,
      "metadata": {
        "id": "AztFDNxAxL5L"
      },
      "outputs": [],
      "source": [
        "!pip install -U -q google-genai  # Client Side SDK"
      ]
    },
    {
      "cell_type": "markdown",
      "source": [
        "### Why SDK is required to install?\n",
        "\n",
        "A Python SDK (Software Development Kit) is a collection of tools, libraries, and documentation provided to help developers integrate and interact with specific APIs using Python. SDKs simplify the development process by offering pre-built functions and modules. Reducing the need for developers to manually write code for tasks like API requests, authentication, and error handling.\n",
        "\n",
        "Features of SDK:\n",
        "\n",
        "- Provides methods (Push,Pull,Delete,Create) and classes for interacting with the platform or service's APIs.\n",
        "- Includes built-in functions to handle authentication (e.g., API keys, OAuth).\n",
        "- Usually includes detailed instructions, code examples, and usage guides.\n",
        "\n",
        "**Note: Python uses pip install for installing a wide variety of packages, which can include SDKs, libraries, or other tools. It can sometimes be unclear whether a package is an SDK, a general-purpose library, or a specific tool. Here are some ways a developer can differentiate:**\n",
        "\n",
        "\n"
      ],
      "metadata": {
        "id": "5T1Fvx78G6FN"
      }
    },
    {
      "cell_type": "markdown",
      "source": [
        "# Setup API Key\n",
        "\n",
        "To run the following cell, your API key must be stored in a Colab Secret named `GOOGLE_API_KEY`.\n",
        "\n",
        "You can create API Key by navigating into the Google's AI Studio. The detail method is mentioned in the `01_Prompting.ipynb` file.\n",
        "\n",
        "This step is required because you are authorizing the colab file to use the LLM, through a secret code (Generated from the AI studio), below command is also mentioned in the colab file.\n",
        "\n"
      ],
      "metadata": {
        "id": "vAZlb7_hCy4C"
      }
    },
    {
      "cell_type": "code",
      "source": [
        "from google.colab import userdata\n",
        "import os\n",
        "\n",
        "os.environ['GOOGLE_API_KEY'] = userdata.get('GOOGLE_API_KEY') # Where GOOGLE_API_KEY is the secret code mentioned in the env. file (Secret tab in colab)"
      ],
      "metadata": {
        "id": "OWBzxStAC2Og"
      },
      "execution_count": 3,
      "outputs": []
    },
    {
      "cell_type": "markdown",
      "source": [
        "## Import:\n",
        "\n",
        "Import all the necessary modules."
      ],
      "metadata": {
        "id": "D5jnOy1uED2f"
      }
    },
    {
      "cell_type": "code",
      "source": [
        "from google import genai"
      ],
      "metadata": {
        "id": "flsZrcicEJYF"
      },
      "execution_count": 4,
      "outputs": []
    },
    {
      "cell_type": "markdown",
      "source": [
        "## Initialize SDK client:\n",
        "\n",
        "The client will pick up your API key from the environment variable. To use the live API you need to set the client version to `v1alpha`.\n",
        "\n"
      ],
      "metadata": {
        "id": "3qpcg7NOEYQ4"
      }
    },
    {
      "cell_type": "code",
      "source": [
        "from google import genai\n",
        "client = genai.Client()"
      ],
      "metadata": {
        "id": "v9QHrxReElAA"
      },
      "execution_count": 5,
      "outputs": []
    },
    {
      "cell_type": "markdown",
      "source": [
        "Explanation of the Code:\n",
        "\n",
        "1. `from google import genai`:\n",
        " - This imports the genai module from the google package, enabling you to use its classes and functions in your code.\n",
        "2. `client = genai.Client()`:\n",
        " - genai.Client() is a constructor provided by the `genai` module. It creates an object (referred to as `client`) that serves as the interface for interacting with the GenAI service (In our case the client is Google Colab, As we are coding in google Colab).\n",
        "\n",
        "### Purpose of the making the `client` object:\n",
        " - The client acts as a bridge between your application and the Google Generative AI APIs.\n",
        " - Using this `client`, you can send requests (e.g., text generation, image generation) and receive responses from the GenAI service.\n",
        "\n",
        "#### Why create a Client instance?:\n",
        "\n",
        "- To access the API, you need a way to manage settings like authentication (e.g., your API key) and connection details.\n",
        "- The Client class encapsulates all these details, so you don't have to manually configure them for each API call.\n",
        "\n",
        "**In simpler terms:**\n",
        " - Think of the client as your personal assistant for talking to the Generative AI service.\n",
        " - Instead of handling the API's complex details yourself, you tell the client what you want, and it takes care of the rest.  \n"
      ],
      "metadata": {
        "id": "OVKgvBPJiZZS"
      }
    },
    {
      "cell_type": "markdown",
      "source": [
        "## Select a model:\n",
        "\n",
        "Multimodal Live API are a new capability introduced with the Gemini 2.0 model. It won't work with previous generation models."
      ],
      "metadata": {
        "id": "t4_Cmw5GEoli"
      }
    },
    {
      "cell_type": "code",
      "source": [
        "MODEL: str = \"gemini-2.0-flash-exp\" # you can select model name from the AI studio by selecting the model and clicking into the `Get code` and copying the name."
      ],
      "metadata": {
        "id": "UP9p2M2gEvBJ"
      },
      "execution_count": 6,
      "outputs": []
    },
    {
      "cell_type": "markdown",
      "source": [
        "## Text to Text:\n",
        "\n",
        "The simplest way to use the Live API is as a text-to-text chat interface, but it can do a lot more than this."
      ],
      "metadata": {
        "id": "E3lbibgUE-N8"
      }
    },
    {
      "cell_type": "code",
      "source": [
        "response = client.models.generate_content(\n",
        "    model=MODEL,  # Specifies the model name or identifier to use (in key=value format).\n",
        "    contents='Who is Imran Khan?, define in one line' # The prompt or input query for the model.\n",
        ")\n",
        "print(response.text)"
      ],
      "metadata": {
        "colab": {
          "base_uri": "https://localhost:8080/"
        },
        "collapsed": true,
        "id": "kHVoEcfTFF0K",
        "outputId": "cb0774a2-a454-4b3a-b07f-bb6629db997d"
      },
      "execution_count": 7,
      "outputs": [
        {
          "output_type": "stream",
          "name": "stdout",
          "text": [
            "Imran Khan is a Pakistani politician and former cricketer who served as the 22nd Prime Minister of Pakistan.\n",
            "\n"
          ]
        }
      ]
    },
    {
      "cell_type": "markdown",
      "source": [
        "### Explanation of above code:\n",
        " - We have created `response` variable as a container to store the output value.\n",
        " - `client` is basically calling client object/variable which you had previously created above, which is designed to interact with the Generative AI service.\n",
        " - `models` is a specific namespace within `client` that provides access to model-related operations, such as:\n",
        "   - Listing available models.\n",
        "   - Selecting a model for content generation.\n",
        "   - Sending prompts to a specific model.  \n",
        " - `generate_content()` sends your prompt to the AI model.\n",
        " - Parameters passed:\n",
        "    - `model=MODEL:`\n",
        "        - Specifies the AI model you want to use for content generation.\n",
        "        - `MODEL` is likely a variable defined earlier in your code, holding the name or identifier of a specific Generative AI model (e.g., `\"text-bison-001\"` for Google's text generation).\n",
        "    - `contents='Who is Imran Khan?, define in one line':`\n",
        "        -  This is the input or \"prompt\" you are sending to the AI model.\n",
        "        -  The model will process this and generate a concise response.  \n",
        " - The model processes the prompt and generates a response.\n",
        " - The response is stored in `response`, and the actual text is accessed via `response.text`.\n",
        " - `print()` displays the generated text on the screen.  "
      ],
      "metadata": {
        "id": "FPVDbtyiK7V3"
      }
    }
  ]
}