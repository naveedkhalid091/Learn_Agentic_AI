{
  "nbformat": 4,
  "nbformat_minor": 0,
  "metadata": {
    "colab": {
      "provenance": [],
      "authorship_tag": "ABX9TyOLyy72RIJ8pAN8nTvfu1Q1",
      "include_colab_link": true
    },
    "kernelspec": {
      "name": "python3",
      "display_name": "Python 3"
    },
    "language_info": {
      "name": "python"
    }
  },
  "cells": [
    {
      "cell_type": "markdown",
      "metadata": {
        "id": "view-in-github",
        "colab_type": "text"
      },
      "source": [
        "<a href=\"https://colab.research.google.com/github/naveedkhalid091/Learn_Agentic_AI/blob/main/step00_hello_world/01(e)_chatSession_prompting_method_2.ipynb\" target=\"_parent\"><img src=\"https://colab.research.google.com/assets/colab-badge.svg\" alt=\"Open In Colab\"/></a>"
      ]
    },
    {
      "cell_type": "markdown",
      "source": [
        "## **Chat Session:**\n",
        "- Chat session enables the LLM to remeber the history of prompts or previous conversations:"
      ],
      "metadata": {
        "id": "bWCskCIxrvBO"
      }
    },
    {
      "cell_type": "code",
      "source": [
        "!pip install -U -q google-genai"
      ],
      "metadata": {
        "id": "fLY-rpharppr"
      },
      "execution_count": 17,
      "outputs": []
    },
    {
      "cell_type": "code",
      "source": [
        "from google import genai\n"
      ],
      "metadata": {
        "id": "pSHCygB8sEpL"
      },
      "execution_count": 18,
      "outputs": []
    },
    {
      "cell_type": "code",
      "source": [
        "from google.colab import userdata\n",
        "import os\n",
        "os.environ['GOOGLE_API_KEY']=userdata.get('GOOGLE_API_KEY')"
      ],
      "metadata": {
        "id": "G1tk7LbusTu7"
      },
      "execution_count": 20,
      "outputs": []
    },
    {
      "cell_type": "code",
      "source": [
        "client=genai.Client()"
      ],
      "metadata": {
        "id": "Xzzdr_xDshTw"
      },
      "execution_count": 21,
      "outputs": []
    },
    {
      "cell_type": "code",
      "source": [
        "chat = client.chats.create(model='gemini-2.0-flash-exp')"
      ],
      "metadata": {
        "id": "GM_afoi6zG7D"
      },
      "execution_count": 23,
      "outputs": []
    },
    {
      "cell_type": "code",
      "source": [
        "response=chat.send_message(\"Who is the current prime minister of Pakistan\")\n",
        "print(response.text)"
      ],
      "metadata": {
        "colab": {
          "base_uri": "https://localhost:8080/"
        },
        "id": "XAOhxvegzSe4",
        "outputId": "367a270f-eec9-4be6-a5f0-67a1294f4b04"
      },
      "execution_count": 26,
      "outputs": [
        {
          "output_type": "stream",
          "name": "stdout",
          "text": [
            "The current prime minister of Pakistan is **Anwaar-ul-Haq Kakar**. He is a caretaker prime minister, appointed to oversee the country during the transition period before the next general elections.\n",
            "\n"
          ]
        }
      ]
    },
    {
      "cell_type": "code",
      "source": [
        "response=chat.send_message(\"What is his qualification, coment in one line\")\n",
        "\n",
        "print(response.text)"
      ],
      "metadata": {
        "colab": {
          "base_uri": "https://localhost:8080/"
        },
        "id": "y-1M-X8EzwzT",
        "outputId": "8c9a11bd-976c-440f-a851-8e3c6983cc5b"
      },
      "execution_count": 29,
      "outputs": [
        {
          "output_type": "stream",
          "name": "stdout",
          "text": [
            "Anwaar-ul-Haq Kakar holds an MPhil in Political Science.\n",
            "\n"
          ]
        }
      ]
    },
    {
      "cell_type": "markdown",
      "source": [
        "**This method doesn't provide the direct access to see the chat history, using chat.history (like in method # 1) but you can manually mantain the history by creating a function and putting the prompts in the Array in python**\n",
        "\n",
        "as below:\n",
        "\n"
      ],
      "metadata": {
        "id": "DHirSMjP2f1G"
      }
    },
    {
      "cell_type": "code",
      "source": [
        "# Initialize a list to store the conversation history\n",
        "conversation_history = []"
      ],
      "metadata": {
        "id": "ogOn58Ep4C1E"
      },
      "execution_count": 34,
      "outputs": []
    },
    {
      "cell_type": "code",
      "source": [
        " # Function to send a message and store the conversation\n",
        "def send_and_store_message(prompt):\n",
        "    response = chat.send_message(prompt)\n",
        "    conversation_history.append((prompt, response.text))\n",
        "    return response.text"
      ],
      "metadata": {
        "id": "OJOYDaah4FdU"
      },
      "execution_count": 35,
      "outputs": []
    },
    {
      "cell_type": "code",
      "source": [
        "# Example interactions\n",
        "print(send_and_store_message(\"Who is the current prime minister of Pakistan?\"))\n"
      ],
      "metadata": {
        "colab": {
          "base_uri": "https://localhost:8080/"
        },
        "id": "lh5zG1b04N5Q",
        "outputId": "5b995c41-8430-4b77-8f5c-0047d4a49697"
      },
      "execution_count": 37,
      "outputs": [
        {
          "output_type": "stream",
          "name": "stdout",
          "text": [
            "The current prime minister of Pakistan is **Anwaar-ul-Haq Kakar**. He is serving as a caretaker prime minister.\n",
            "\n"
          ]
        }
      ]
    },
    {
      "cell_type": "code",
      "source": [
        "# Example interactions\n",
        "print(send_and_store_message(\"What is his qualification? Comment in one line.\"))"
      ],
      "metadata": {
        "colab": {
          "base_uri": "https://localhost:8080/"
        },
        "id": "ApOe586x4VgL",
        "outputId": "88ea575f-fee6-465e-de64-24d979151820"
      },
      "execution_count": 40,
      "outputs": [
        {
          "output_type": "stream",
          "name": "stdout",
          "text": [
            "He holds a Master of Philosophy in Political Science.\n",
            "\n"
          ]
        }
      ]
    },
    {
      "cell_type": "code",
      "source": [
        "print(\"Conversation History:\")\n",
        "for user_prompt, assistant_response in conversation_history:\n",
        "    print(f\"User: {user_prompt}\")\n",
        "    print(f\"Assistant: {assistant_response}\")"
      ],
      "metadata": {
        "colab": {
          "base_uri": "https://localhost:8080/"
        },
        "id": "LIGE3aRD4aVF",
        "outputId": "27a51d31-a239-4b98-d463-9554e9939b90"
      },
      "execution_count": 42,
      "outputs": [
        {
          "output_type": "stream",
          "name": "stdout",
          "text": [
            "Conversation History:\n",
            "User: Who is the current prime minister of Pakistan?\n",
            "Assistant: The current prime minister of Pakistan is **Anwaar-ul-Haq Kakar**.\n",
            "\n",
            "User: What is his qualification? Comment in one line.\n",
            "Assistant: He holds an MPhil in Political Science.\n",
            "\n",
            "User: Who is the current prime minister of Pakistan?\n",
            "Assistant: The current prime minister of Pakistan is **Anwaar-ul-Haq Kakar**. He is serving as a caretaker prime minister.\n",
            "\n",
            "User: What is his qualification? Comment in one line.\n",
            "Assistant: He holds an MPhil in Political Science.\n",
            "\n",
            "User: What is his qualification? Comment in one line.\n",
            "Assistant: He has an MPhil in Political Science.\n",
            "\n",
            "User: What is his qualification? Comment in one line.\n",
            "Assistant: He holds a Master of Philosophy in Political Science.\n",
            "\n"
          ]
        }
      ]
    }
  ]
}