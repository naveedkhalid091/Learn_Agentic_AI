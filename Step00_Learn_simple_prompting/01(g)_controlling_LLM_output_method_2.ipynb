{
  "nbformat": 4,
  "nbformat_minor": 0,
  "metadata": {
    "colab": {
      "provenance": [],
      "authorship_tag": "ABX9TyMNyb+asKk6mMIOCT/6sLww",
      "include_colab_link": true
    },
    "kernelspec": {
      "name": "python3",
      "display_name": "Python 3"
    },
    "language_info": {
      "name": "python"
    }
  },
  "cells": [
    {
      "cell_type": "markdown",
      "metadata": {
        "id": "view-in-github",
        "colab_type": "text"
      },
      "source": [
        "<a href=\"https://colab.research.google.com/github/naveedkhalid091/Learn_Agentic_AI/blob/main/step00_hello_world/01(g)_controlling_LLM_output_method_2.ipynb\" target=\"_parent\"><img src=\"https://colab.research.google.com/assets/colab-badge.svg\" alt=\"Open In Colab\"/></a>"
      ]
    },
    {
      "cell_type": "code",
      "execution_count": 1,
      "metadata": {
        "colab": {
          "base_uri": "https://localhost:8080/"
        },
        "id": "x4VFylp4XHAw",
        "outputId": "45c4ebbb-7ff3-4746-f9d7-ff0aa2c0aa49"
      },
      "outputs": [
        {
          "output_type": "stream",
          "name": "stdout",
          "text": [
            "\u001b[?25l   \u001b[90m━━━━━━━━━━━━━━━━━━━━━━━━━━━━━━━━━━━━━━━━\u001b[0m \u001b[32m0.0/114.2 kB\u001b[0m \u001b[31m?\u001b[0m eta \u001b[36m-:--:--\u001b[0m\r\u001b[2K   \u001b[91m━━━━━━━━━━━━━━━━━━━━━━━━━━━━━━━━━━━━━━━\u001b[0m\u001b[90m╺\u001b[0m \u001b[32m112.6/114.2 kB\u001b[0m \u001b[31m5.3 MB/s\u001b[0m eta \u001b[36m0:00:01\u001b[0m\r\u001b[2K   \u001b[90m━━━━━━━━━━━━━━━━━━━━━━━━━━━━━━━━━━━━━━━━\u001b[0m \u001b[32m114.2/114.2 kB\u001b[0m \u001b[31m3.0 MB/s\u001b[0m eta \u001b[36m0:00:00\u001b[0m\n",
            "\u001b[?25h"
          ]
        }
      ],
      "source": [
        "!pip install -U -q google-genai\n"
      ]
    },
    {
      "cell_type": "code",
      "source": [
        "from google import genai"
      ],
      "metadata": {
        "id": "YxoF7BQ9XMHD"
      },
      "execution_count": 3,
      "outputs": []
    },
    {
      "cell_type": "code",
      "source": [
        "from google.genai import types # additional step mentioned in pypi genai library for configurations"
      ],
      "metadata": {
        "id": "OlkzYD_WZQEY"
      },
      "execution_count": 7,
      "outputs": []
    },
    {
      "cell_type": "code",
      "source": [
        "from google.colab import userdata\n",
        "import os\n",
        "\n",
        "os.environ['GOOGLE_API_KEY']=userdata.get('GOOGLE_API_KEY')"
      ],
      "metadata": {
        "id": "SXh0xzGWXY0n"
      },
      "execution_count": 4,
      "outputs": []
    },
    {
      "cell_type": "code",
      "source": [
        "client=genai.Client()"
      ],
      "metadata": {
        "id": "SX1ExG12XjYY"
      },
      "execution_count": 5,
      "outputs": []
    },
    {
      "cell_type": "markdown",
      "source": [
        "## Response based on max_output_token & temprature:\n",
        "\n",
        "Check below expamples, when we changed the max_out_put token the response is changed even the prompt is same."
      ],
      "metadata": {
        "id": "Szghxo2ka6On"
      }
    },
    {
      "cell_type": "code",
      "source": [
        "response=client.models.generate_content(\n",
        "    model=\"gemini-2.0-flash-exp\",\n",
        "    contents=\"What do you know about Imran Khan, write in 10 lines\",\n",
        "    config=types.GenerateContentConfig(\n",
        "           temperature= 0.9,\n",
        "           max_output_tokens= 10,\n",
        "    )\n",
        ")\n",
        "\n",
        "print(response.text)"
      ],
      "metadata": {
        "colab": {
          "base_uri": "https://localhost:8080/"
        },
        "id": "5p9GNnDkZtjN",
        "outputId": "d53ef548-14e2-4f74-dfe1-dc8a4df6ef08"
      },
      "execution_count": 14,
      "outputs": [
        {
          "output_type": "stream",
          "name": "stdout",
          "text": [
            "Okay, here are 10 lines about Imran\n"
          ]
        }
      ]
    },
    {
      "cell_type": "code",
      "source": [
        "response=client.models.generate_content(\n",
        "    model=\"gemini-2.0-flash-exp\",\n",
        "    contents=\"What do you know about Imran Khan, write in 10 lines\",\n",
        "    config=types.GenerateContentConfig(\n",
        "           temperature= 0.3,\n",
        "           max_output_tokens= 250,\n",
        "    )\n",
        ")\n",
        "\n",
        "print(response.text)"
      ],
      "metadata": {
        "colab": {
          "base_uri": "https://localhost:8080/"
        },
        "id": "uF8uTyxkatHF",
        "outputId": "a6f5d8fe-502a-408f-af9e-d97898a42f7d"
      },
      "execution_count": 12,
      "outputs": [
        {
          "output_type": "stream",
          "name": "stdout",
          "text": [
            "Okay, here are 10 lines about Imran Khan:\n",
            "\n",
            "1.  Imran Khan is a Pakistani politician and former international cricketer.\n",
            "2.  He captained the Pakistan national cricket team to victory in the 1992 Cricket World Cup.\n",
            "3.  After retiring from cricket, he founded the political party Pakistan Tehreek-e-Insaf (PTI) in 1996.\n",
            "4.  Khan served as the Prime Minister of Pakistan from 2018 to 2022.\n",
            "5.  His political platform focused on anti-corruption, social justice, and an independent foreign policy.\n",
            "6.  He implemented policies aimed at economic reform and poverty alleviation during his premiership.\n",
            "7.  Khan's government faced challenges including inflation, a balance of payments crisis, and political opposition.\n",
            "8.  He was ousted from power through a vote of no-confidence in April 2022.\n",
            "9.  Since his removal, he has remained a prominent political figure, leading large public rallies.\n",
            "10. Khan is known for his charismatic leadership style and significant following in Pakistan.\n",
            "\n"
          ]
        }
      ]
    }
  ]
}