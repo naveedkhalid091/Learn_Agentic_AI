{
  "nbformat": 4,
  "nbformat_minor": 0,
  "metadata": {
    "colab": {
      "provenance": [],
      "authorship_tag": "ABX9TyOHP0GzmobQZx8B5hz22cE/",
      "include_colab_link": true
    },
    "kernelspec": {
      "name": "python3",
      "display_name": "Python 3"
    },
    "language_info": {
      "name": "python"
    }
  },
  "cells": [
    {
      "cell_type": "markdown",
      "metadata": {
        "id": "view-in-github",
        "colab_type": "text"
      },
      "source": [
        "<a href=\"https://colab.research.google.com/github/naveedkhalid091/Learn_Agentic_AI/blob/main/step00_hello_world/02_open_ai_prompting_%26_aisuite_wrapper.ipynb\" target=\"_parent\"><img src=\"https://colab.research.google.com/assets/colab-badge.svg\" alt=\"Open In Colab\"/></a>"
      ]
    },
    {
      "cell_type": "markdown",
      "source": [
        "# OpenAI API prompting:\n",
        "\n",
        "## Steps to Write the prompts with OpenAI's ChatGPT:\n",
        "\n",
        "**Step#1:** Visit the below url and sign-in first:\n",
        "https://platform.openai.com/docs/quickstart/create-and-export-an-api-key\n",
        "\n",
        "**Step#2:** Under the **Create and export an API key** heading click on the `Create an API key in the dashboard here` link.\n",
        "\n",
        "**Step#3:** Click on the `Create new Secret key` button, give a name  of your project and click on the `create secret key` button to access the API key.  \n",
        "\n",
        "**Step#4:** Copy the key and paste into the colab secret file same as we followed the practice in Gemini model.\n",
        "\n",
        "**Step#5:** Configure ChatGPT according to the configuaration settings mentioned in the documentation of OpenAI, but note it down that the OpenAI is not free to use that's why we will be using the gemini Model which is free.\n",
        "\n",
        "***Note: We have to change our code/parameters and configurations everytime when we will be switching one AI Company i.e. ChatGPT into another AI company i.e. Gemini so testing purposes, This pratice would be tiresome what's why we have a solution and now we will learn about a wrapper which is called `aisuite`.***\n",
        "\n"
      ],
      "metadata": {
        "id": "Sp12xEoNxcEz"
      }
    },
    {
      "cell_type": "markdown",
      "source": [
        "# aisuite:\n",
        "\n",
        "aisuite makes it easy for developers to use the LLMs from the multiple providers (). We as a deveopers only need to change the name of model or company then a wrapper will automatically manage all the changes, by using a wrapper, we will not be changing any code or configuration settings.\n",
        "\n",
        "we can install it as follows:\n",
        "\n",
        "`pip install aisuite`  # Installs the base version of aisuite with minimal dependencies.\n",
        "\n",
        "`pip install aisuite[all]` # Installs aisuite along with additional dependencies for all supported providers. This ensures compatibility with a wider range of models and providers."
      ],
      "metadata": {
        "id": "zy0v64qNCTVJ"
      }
    },
    {
      "cell_type": "markdown",
      "source": [
        "# aisuite:\n",
        "\n",
        "aisuite makes it easy for developers to use the LLMs from the multiple providers (). We as a deveopers only need to change the name of model or company then a wrapper will automatically manage all the changes, by using a wrapper, we will not be changing any code or configuration settings.\n",
        "\n",
        "we can install it as follows:\n",
        "\n",
        "`pip install aisuite`  # Installs the base version of aisuite with minimal dependencies.\n",
        "\n",
        "`pip install aisuite[all]` # Installs aisuite along with additional dependencies for all supported providers. This ensures compatibility with a wider range of models and providers."
      ],
      "metadata": {
        "id": "Hv3erBN5NOO0"
      }
    },
    {
      "cell_type": "markdown",
      "source": [
        "From the below link you can practice yourself using the aisuite example colabsheet.\n",
        "\n",
        "https://github.com/andrewyng/aisuite/blob/main/examples/AISuiteDemo.ipynb  \n",
        "\n",
        "\n",
        "Above link is trying to prompt using the Llama groq model , but you can try with the gemini as well by just changing the model name from groq to google:gemini-1.5-flash or with the ChatGPT model name.\n",
        "\n"
      ],
      "metadata": {
        "id": "Ydmcw47sRCR2"
      }
    }
  ]
}