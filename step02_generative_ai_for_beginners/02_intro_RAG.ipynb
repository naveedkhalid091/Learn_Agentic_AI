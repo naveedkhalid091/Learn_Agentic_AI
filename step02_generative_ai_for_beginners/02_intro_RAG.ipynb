{
  "nbformat": 4,
  "nbformat_minor": 0,
  "metadata": {
    "colab": {
      "provenance": [],
      "authorship_tag": "ABX9TyMRjh1pMGLYXCD2QnokbDUZ",
      "include_colab_link": true
    },
    "kernelspec": {
      "name": "python3",
      "display_name": "Python 3"
    },
    "language_info": {
      "name": "python"
    }
  },
  "cells": [
    {
      "cell_type": "markdown",
      "metadata": {
        "id": "view-in-github",
        "colab_type": "text"
      },
      "source": [
        "<a href=\"https://colab.research.google.com/github/naveedkhalid091/Learn_Agentic_AI/blob/main/step02_generative_ai_for_beginners/02_intro_RAG.ipynb\" target=\"_parent\"><img src=\"https://colab.research.google.com/assets/colab-badge.svg\" alt=\"Open In Colab\"/></a>"
      ]
    },
    {
      "cell_type": "markdown",
      "source": [
        "## What is RAG?\n",
        "\n",
        "RAG (Retrieval-Augmented Generation) is a tool that enhances AI's responses by combining two components:\n",
        "\n",
        "1. **Retrieval-Based Models:** These fetch relevant data from external sources like APIs, databases, or the web.\n",
        "2. **Generative Models:** These use the retrieved information to generate meaningful and contextually relevant responses.\n",
        "\n",
        "### Why RAG is Important:\n",
        "Without RAG, LLMs rely only on their training data, which may not cover real-time or domain-specific knowledge. RAG bridges this gap by allowing LLMs to access up-to-date or customized information before crafting a response.\n",
        "\n",
        "**Practical Example:**\n",
        "Imagine OpenAI's ChatGPT trained only until October 2023. If you ask it for today's weather, it won't know unless connected to a retrieval system (like an API or database). With RAG, ChatGPT can fetch real-time weather information from the internet or a connected database, integrate it into its response, and provide accurate answers.\n",
        "\n",
        "**Note: Please bear in mind that RAG can't search data from the whole internet, it can only search information if the information is stored into a connected database with RAG or connected API.\n",
        "\n",
        "Secondly, RAG is like a Google in terms of searching point of view but it can only search data from the connected databases/parts or APIs and send the retrieved data to the LLM for conversational and predictive language style output, Google can only search the relevant information from the internet and response in a form of links/websites.\n",
        "**\n",
        "\n"
      ],
      "metadata": {
        "id": "y3iKcsyYAJ9j"
      }
    }
  ]
}