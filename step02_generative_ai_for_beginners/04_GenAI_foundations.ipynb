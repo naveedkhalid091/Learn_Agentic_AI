{
  "nbformat": 4,
  "nbformat_minor": 0,
  "metadata": {
    "colab": {
      "provenance": [],
      "authorship_tag": "ABX9TyOhUFTWINI8ejMBsjJAYE6b",
      "include_colab_link": true
    },
    "kernelspec": {
      "name": "python3",
      "display_name": "Python 3"
    },
    "language_info": {
      "name": "python"
    }
  },
  "cells": [
    {
      "cell_type": "markdown",
      "metadata": {
        "id": "view-in-github",
        "colab_type": "text"
      },
      "source": [
        "<a href=\"https://colab.research.google.com/github/naveedkhalid091/Learn_Agentic_AI/blob/main/step02_generative_ai_for_beginners/04_GenAI_foundations.ipynb\" target=\"_parent\"><img src=\"https://colab.research.google.com/assets/colab-badge.svg\" alt=\"Open In Colab\"/></a>"
      ]
    },
    {
      "cell_type": "markdown",
      "source": [
        "## 04_GenAI foundations:\n",
        "\n",
        "Generative AI refers to AI systems that can create new content based on patterns learned from data. Instead of just analyzing or classifying data, it generates new examples similar to what it has learned. These models learn to generate images, text, music, or even video that looks or sounds like real examples.\n",
        "\n",
        "Think of Generative AI as a creative AI. If you give it a few examples of something (e.g., some pictures of cats), it can learn the common features of a cat and then create new cat images on its own. It tries to understand the underlying distribution of the data (what makes the data \"real\") and generates new data that fits this distribution.\n",
        "\n",
        "Example: A Generative AI like GPT (Generative Pre-trained Transformer) can create new sentences or stories by learning from a huge amount of text data.\n",
        "\n",
        "### Generative Adversarial Networks (GANs):\n",
        "GANs are a specific type of Generative AI that are used to create new data (like images, videos, or text) that looks very real. They consist of two networks that work against each other to improve their performance. The two networks in GANs are:\n",
        "\n",
        "1. **Generator:** This part of the model tries to generate new data (e.g., images) that looks as close to real data as possible. Think of it as an artist trying to create a realistic painting.\n",
        "\n",
        "2. **Discriminator:** This part of the model tries to identify whether the generated data is real (from the training dataset) or fake (created by the generator). Think of it as a critic who tells the artist whether the painting looks real or not.\n",
        "\n",
        "\n",
        "These two parts, the generator and the discriminator, are adversarial, meaning they are in a constant competition:\n",
        "\n",
        "- The generator wants to get better at producing realistic data (so the discriminator can't tell it's fake).\n",
        "- The discriminator wants to get better at spotting fake data.\n",
        "\n",
        "Through this competition, both networks improve over time, leading to very realistic-looking data generation.\n",
        "\n",
        "### How GANs Work:\n",
        "\n",
        "1. The generator creates a random image (or any data) that is initially far from perfect.\n",
        "2. The discriminator checks if the image is real or fake.\n",
        "3. Based on the discriminator's feedback, the generator adjusts its method of generating data to improve.\n",
        "4. The discriminator also learns to get better at spotting fake data.\n",
        "5. This cycle continues until the generator produces data so realistic that the discriminator cannot tell it apart from real data.\n",
        "\n",
        "\n",
        "## Traditional Machine Learning: Discriminative Models:\n",
        "\n",
        "Traditional Machine Learning (ML) includes various types of models that classify or predict data based on learned patterns. Discriminative models are one type of machine learning model.\n",
        "\n",
        "\n",
        "Discriminative models focus on separating or distinguishing between different categories. These models learn to predict an output or class label based on the input data. They are called \"discriminative\" because they aim to find the boundaries between different classes (e.g., distinguishing between cats and dogs in images).\n",
        "\n",
        "In simpler terms, these models focus on how to label or predict based on the given input. For instance, if you show a picture of a cat, a discriminative model will decide \"Yes, this is a cat\" or \"No, this is not a cat\" based on learned features.\n",
        "\n",
        "The Traditional ML model can't generate its own data/content.\n",
        "\n",
        "\n",
        "### Key Differences Between Generative AI and Discriminative Models\n",
        "\n",
        "- **Generative AI:** Learns the distribution of data and can generate new data (e.g., new images, text).\n",
        "- **Discriminative models**: Learn the boundary between different classes and are used for classification or prediction (e.g., identifying whether an email is spam or not).\n",
        "\n"
      ],
      "metadata": {
        "id": "xZt_aDdufEuK"
      }
    }
  ]
}