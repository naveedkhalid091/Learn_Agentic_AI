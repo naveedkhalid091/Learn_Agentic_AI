{
  "nbformat": 4,
  "nbformat_minor": 0,
  "metadata": {
    "colab": {
      "provenance": [],
      "authorship_tag": "ABX9TyNXS6GeH8g+8UNaAEjx0e2G",
      "include_colab_link": true
    },
    "kernelspec": {
      "name": "python3",
      "display_name": "Python 3"
    },
    "language_info": {
      "name": "python"
    }
  },
  "cells": [
    {
      "cell_type": "markdown",
      "metadata": {
        "id": "view-in-github",
        "colab_type": "text"
      },
      "source": [
        "<a href=\"https://colab.research.google.com/github/naveedkhalid091/Learn_Agentic_AI/blob/main/step02_generative_ai_for_beginners/03_LLM_Leaderboards.ipynb\" target=\"_parent\"><img src=\"https://colab.research.google.com/assets/colab-badge.svg\" alt=\"Open In Colab\"/></a>"
      ]
    },
    {
      "cell_type": "markdown",
      "source": [
        "## LLM Leaderboards:\n",
        "\n",
        "LLM leaderboards are platforms that evaluate and rank Large Language Models (LLMs) based on their performance across various benchmarks and tasks.\n",
        "\n",
        "You can choose the best LLM for your Agent creation from the Leaderboards' ranking and your needs.  \n",
        "\n",
        "The best Leaderboard to compare the LLM is Arena Leaderboards, the link of Arena Leaderboard is given below:\n",
        "\n",
        "- [Arena Leaderboard](https://lmarena.ai/)\n",
        "\n",
        "In this arena leaderboard you can also vote on which LLM has given the best response based on your input, initially this leaderboard will show you a rendom two LLMs without letting you know the model name. After your vote, this leaderboard will show you a name of both model names, this shows the transparancy in voting.\n",
        "\n",
        "There are others Leaderboard available which rank the LLMs based on thier response.\n",
        "\n",
        "- [Open LLM Leaderboard by hugging face](https://huggingface.co/spaces/open-llm-leaderboard/open_llm_leaderboard#/)\n",
        "\n",
        "- [Berkeley Function-Calling Leaderboard](https://gorilla.cs.berkeley.edu/leaderboard.html)\n",
        "\n",
        "- [Video-Generation-Arena-Leaderboard](https://huggingface.co/spaces/ArtificialAnalysis/Video-Generation-Arena-Leaderboard)\n",
        "\n",
        "\n"
      ],
      "metadata": {
        "id": "Ms8TUGQ_Kjo9"
      }
    }
  ]
}