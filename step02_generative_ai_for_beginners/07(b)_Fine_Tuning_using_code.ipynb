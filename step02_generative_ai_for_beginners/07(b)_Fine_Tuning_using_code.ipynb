{
  "nbformat": 4,
  "nbformat_minor": 0,
  "metadata": {
    "colab": {
      "provenance": [],
      "authorship_tag": "ABX9TyOo8+Y/IR1dnh4xKIcpFJgO",
      "include_colab_link": true
    },
    "kernelspec": {
      "name": "python3",
      "display_name": "Python 3"
    },
    "language_info": {
      "name": "python"
    }
  },
  "cells": [
    {
      "cell_type": "markdown",
      "metadata": {
        "id": "view-in-github",
        "colab_type": "text"
      },
      "source": [
        "<a href=\"https://colab.research.google.com/github/naveedkhalid091/Learn_Agentic_AI/blob/main/step02_generative_ai_for_beginners/07(b)_Fine_Tuning_using_code.ipynb\" target=\"_parent\"><img src=\"https://colab.research.google.com/assets/colab-badge.svg\" alt=\"Open In Colab\"/></a>"
      ]
    },
    {
      "cell_type": "markdown",
      "source": [
        "## Fine Tuining Using Code:\n",
        "\n",
        "Previosuly we havr learnt how to fine tune Gemini Model using the AI Sudio but now we will learn how to fine tune a model using code.\n",
        "\n",
        "In this notebook, you'll learn how to get started with the tuning service using the Python client library for the Gemini API. Here, you'll learn how to tune the text model behind the Gemini API's text generation service."
      ],
      "metadata": {
        "id": "dLxhkNgFy1BW"
      }
    },
    {
      "cell_type": "markdown",
      "source": [
        "## **Install the client library**"
      ],
      "metadata": {
        "id": "BDH1bTRB1Asj"
      }
    },
    {
      "cell_type": "code",
      "execution_count": 1,
      "metadata": {
        "id": "TJplcApHysYu"
      },
      "outputs": [],
      "source": [
        "import google.generativeai as genai"
      ]
    },
    {
      "cell_type": "markdown",
      "source": [
        "## **Import libraries**"
      ],
      "metadata": {
        "id": "_6e71mOk1MSc"
      }
    },
    {
      "cell_type": "code",
      "source": [
        "import google.generativeai as genai"
      ],
      "metadata": {
        "id": "PVUpUY8A1QGw"
      },
      "execution_count": 2,
      "outputs": []
    },
    {
      "cell_type": "code",
      "source": [
        "from google.colab import userdata\n",
        "genai.configure(api_key=userdata.get('GOOGLE_API_KEY'))"
      ],
      "metadata": {
        "id": "Sv68NM_N1TIS"
      },
      "execution_count": 3,
      "outputs": []
    },
    {
      "cell_type": "markdown",
      "source": [
        "Check your existing Gemini models that you need to fine tune using `genai.list_tuned_model`."
      ],
      "metadata": {
        "id": "tZq6Gotc1l8N"
      }
    },
    {
      "cell_type": "code",
      "source": [
        "tuned_models=list(genai.list_tuned_models())\n",
        "\n",
        "if not tuned_models:\n",
        "  print(\"No fine-tuned models found.\")\n",
        "else:\n",
        "  for model in tuned_models:\n",
        "    print(model.model_name)"
      ],
      "metadata": {
        "colab": {
          "base_uri": "https://localhost:8080/",
          "height": 34
        },
        "id": "tQWztkQb156x",
        "outputId": "17f9fdee-cee0-479d-fdaf-c6e418f02e4a"
      },
      "execution_count": 6,
      "outputs": [
        {
          "output_type": "stream",
          "name": "stdout",
          "text": [
            "No fine-tuned models found.\n"
          ]
        }
      ]
    },
    {
      "cell_type": "markdown",
      "source": [
        "## **Create tuned model:**\n",
        "\n",
        "To create a tuned model, you need to pass your dataset to the model in the `genai.create_tuned_model` method. You can do this be directly defining the `input` and `output` values in the call or importing from a file into a dataframe to pass to the method.\n",
        "\n",
        "For this example, you will tune a model to generate the next number in the sequence. **For example, if the input is 1, the model should output 2. If the input is one hundred, the output should be one hundred one.**\n",
        "\n",
        "\n"
      ],
      "metadata": {
        "id": "P3CeOxGG3_YW"
      }
    },
    {
      "cell_type": "code",
      "source": [
        "# below code will generate a list of models which are avaialble for fine-tuning.\n",
        "model_for_fine_tuning = [\n",
        "    m for m in genai.list_models()\n",
        "    if \"createTunedModel\" in m.supported_generation_methods and\n",
        "    \"flash\" in m.name][0]\n",
        "model_for_fine_tuning"
      ],
      "metadata": {
        "id": "kuX_CHIUEmIj"
      },
      "execution_count": null,
      "outputs": []
    },
    {
      "cell_type": "markdown",
      "source": [
        "Note: genai.list_models() retrieves a list of available models, which can include both **the base models provided by the platform** and **any tuned models you've created**. So **if you have not already created the models** then this code will not show the **base model** avaialable for fine tuning for the developers.  "
      ],
      "metadata": {
        "id": "t53niQY_F3oD"
      }
    },
    {
      "cell_type": "markdown",
      "source": [
        "## **Create a `Random-number-generator` model**\n",
        "As we are creating a `random number generator` model so I need to import the random first as below:"
      ],
      "metadata": {
        "id": "3vqKWP8oHaGS"
      }
    },
    {
      "cell_type": "code",
      "source": [
        "import random\n",
        "\n",
        "num_generator=f'generate-num-{random.randint(1,10000)}'\n",
        "\n",
        "print (num_generator)"
      ],
      "metadata": {
        "colab": {
          "base_uri": "https://localhost:8080/"
        },
        "id": "_cDiOF28H0QX",
        "outputId": "3085edde-df16-4d24-a7c6-4531bf26665d"
      },
      "execution_count": 15,
      "outputs": [
        {
          "output_type": "stream",
          "name": "stdout",
          "text": [
            "generate-num-1217\n"
          ]
        }
      ]
    },
    {
      "cell_type": "code",
      "source": [
        "## train your model based on the above results using `genai.create_tuned_model`\n",
        "\n",
        "operations=genai.create_tuned_model(\n",
        "    source_model=model_for_fine_tuning.num_generator,\n",
        "    training_data=[\n",
        "        {\n",
        "             'text_input': '1',\n",
        "             'output': '2',\n",
        "        },{\n",
        "             'text_input': '3',\n",
        "             'output': '4',\n",
        "        },{\n",
        "             'text_input': '-3',\n",
        "             'output': '-2',\n",
        "        },{\n",
        "             'text_input': 'twenty two',\n",
        "             'output': 'twenty three',\n",
        "        },{\n",
        "             'text_input': 'two hundred',\n",
        "             'output': 'two hundred one',\n",
        "        },{\n",
        "             'text_input': 'ninety nine',\n",
        "             'output': 'one hundred',\n",
        "        },{\n",
        "             'text_input': '8',\n",
        "             'output': '9',\n",
        "        },{\n",
        "             'text_input': '-98',\n",
        "             'output': '-97',\n",
        "        },{\n",
        "             'text_input': '1,000',\n",
        "             'output': '1,001',\n",
        "        },{\n",
        "             'text_input': '10,100,000',\n",
        "             'output': '10,100,001',\n",
        "        },{\n",
        "             'text_input': 'thirteen',\n",
        "             'output': 'fourteen',\n",
        "        },{\n",
        "             'text_input': 'eighty',\n",
        "             'output': 'eighty one',\n",
        "        },{\n",
        "             'text_input': 'one',\n",
        "             'output': 'two',\n",
        "        },{\n",
        "             'text_input': 'three',\n",
        "             'output': 'four',\n",
        "        },{\n",
        "             'text_input': 'seven',\n",
        "             'output': 'eight',\n",
        "        }\n",
        "    ],\n",
        "    id=num_generator,\n",
        "    epoch_count = 100,\n",
        "    batch_size=4,\n",
        "    learning_rate=0.001,\n",
        "\n",
        ")"
      ],
      "metadata": {
        "colab": {
          "base_uri": "https://localhost:8080/",
          "height": 211
        },
        "id": "c9LCf-YeIPbf",
        "outputId": "f1572a00-6110-41f3-d660-ec50e8b9ac57"
      },
      "execution_count": 16,
      "outputs": [
        {
          "output_type": "error",
          "ename": "AttributeError",
          "evalue": "'Model' object has no attribute 'num_generator'",
          "traceback": [
            "\u001b[0;31m---------------------------------------------------------------------------\u001b[0m",
            "\u001b[0;31mAttributeError\u001b[0m                            Traceback (most recent call last)",
            "\u001b[0;32m<ipython-input-16-2ed8278691b8>\u001b[0m in \u001b[0;36m<cell line: 0>\u001b[0;34m()\u001b[0m\n\u001b[1;32m      2\u001b[0m \u001b[0;34m\u001b[0m\u001b[0m\n\u001b[1;32m      3\u001b[0m operations=genai.create_tuned_model(\n\u001b[0;32m----> 4\u001b[0;31m     \u001b[0msource_model\u001b[0m\u001b[0;34m=\u001b[0m\u001b[0mmodel_for_fine_tuning\u001b[0m\u001b[0;34m.\u001b[0m\u001b[0mnum_generator\u001b[0m\u001b[0;34m,\u001b[0m\u001b[0;34m\u001b[0m\u001b[0;34m\u001b[0m\u001b[0m\n\u001b[0m\u001b[1;32m      5\u001b[0m     training_data=[\n\u001b[1;32m      6\u001b[0m         {\n",
            "\u001b[0;31mAttributeError\u001b[0m: 'Model' object has no attribute 'num_generator'"
          ]
        }
      ]
    }
  ]
}