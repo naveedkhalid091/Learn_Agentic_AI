{
  "nbformat": 4,
  "nbformat_minor": 0,
  "metadata": {
    "colab": {
      "provenance": [],
      "authorship_tag": "ABX9TyNyJqiBazwf5qwClA9uZcBy",
      "include_colab_link": true
    },
    "kernelspec": {
      "name": "python3",
      "display_name": "Python 3"
    },
    "language_info": {
      "name": "python"
    }
  },
  "cells": [
    {
      "cell_type": "markdown",
      "metadata": {
        "id": "view-in-github",
        "colab_type": "text"
      },
      "source": [
        "<a href=\"https://colab.research.google.com/github/naveedkhalid091/Learn_Agentic_AI/blob/main/step02_generative_ai_for_beginners/05_openAi_canvas.ipynb\" target=\"_parent\"><img src=\"https://colab.research.google.com/assets/colab-badge.svg\" alt=\"Open In Colab\"/></a>"
      ]
    },
    {
      "cell_type": "markdown",
      "source": [
        "## OpenAI Canvas:\n",
        "\n",
        "OpenAI made Canvas available to everyone, integrating it into ChatGPT's main interface. The update lets users run Python code in Canvas and works with custom GPTs as well.\n",
        "\n",
        "Canvas, which was previously in beta for Plus users, provides a dedicated interface for working with ChatGPT on writing and coding projects that extend beyond simple chat. The new interface features a split-screen layout, where users can edit text on the left while ChatGPT provides suggestions and feedback on the right. This format makes it easier to draft, refine, and review work.\n",
        "\n",
        "“Canvas - a new way to work with ChatGPT to draft, edit, and get feedback on writing and code - is now available to all users in our 4o model. It's fully rolled out on the web and the ChatGPT desktop app for Windows,”\n",
        "\n",
        "Beyond basic text editing, users can format documents, provide feedback, or even ask ChatGPT to suggest improvements. A unique feature includes shortcuts like adjusting the length of content, simplifying language, or adding emojis, offering creative flexibility.\n",
        "\n",
        "The update has sparked excitement across the user and developer communities.\n",
        "\n",
        "This will likely pose a threat to Google Docs. ChatGPT Canvas allows users to edit text before prompting ChatGPT to generate the final copy. Users can also ask ChatGPT to leave comments in their drafts and address them later. In simple words, it is like an editor checking copies.\n",
        "\n",
        "\n",
        "## ChatGPT is Now a Code Editor:\n",
        "\n",
        "For developers, Canvas provides a robust coding experience. Users can write, debug, and run Python code directly in the interface, with features like syntax highlighting, autocomplete, and inline error diagnostics.\n",
        "\n",
        "“One of the new features we want to demonstrate today is the ability to actually run your Python code within Canvas,\n",
        "\n",
        "## Threat to Cursor and VS Code?\n",
        "\n",
        "When Canvas was launched in ChatGPT Plus, people compared it with Claude, Cursor, and GitHub Copilot, and they claimed that with this update, OpenAI might just make a lot of people shift back to ChatGPT for writing and coding since the UX of ChatGPT is much better.\n",
        "\n",
        "“OpenAI launched the Canvas feature in ChatGPT, and it's insane. Bye-bye to all AI IDEs soon,” said a user on X. However, not everyone thinks the same.\n",
        "\n",
        "Some belive that Canvas is not yet a replacement of VS code and other IDE's but in coming years let's see what happens next.\n",
        "\n",
        "## How to access Canvas?\n",
        "\n",
        "You will find the `Canvas` when you will click on the `view tools` on the ChatGPT prompting bar.\n",
        "\n"
      ],
      "metadata": {
        "id": "q-7rRxAHzLPT"
      }
    }
  ]
}