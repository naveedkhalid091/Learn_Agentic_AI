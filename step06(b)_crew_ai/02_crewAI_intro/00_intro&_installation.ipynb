{
 "cells": [
  {
   "cell_type": "markdown",
   "metadata": {},
   "source": [
    "## Introduction to CrewAI: \n",
    "\n",
    "CrewAI is: \n",
    "  - **Open source**: The tool's code is freely available for anyone to use, modify, or improve.\n",
    "  - **Production-grade framework:** It’s built to be robust and reliable enough for real-world applications.\n",
    "  -  It helps manage a group of independent AI programs, each given a specific role or job, so they can work together like a real team (or “crew”) to get complex tasks done.\n",
    "\n",
    "This means CrewAI lets you set up and run a team of specialized AI helpers that collaborate automatically to solve problems efficiently.\n",
    "\n",
    "Read the official documentation of CrewAI from : [Docs](https://docs.crewai.com/introduction)"
   ]
  },
  {
   "cell_type": "markdown",
   "metadata": {},
   "source": [
    "## **Installation of CrewAI:** \n",
    "\n",
    "**Prerequsites:** \n",
    "   - i) Python installation: CrewAI requires Python versions 3.10 to less than 3.13, If your version is outside this range, update or install the appropriate version from python.org/downloads.\n",
    "   - ii) Package Manager (pip): Ensure that you have pip installed. This is the default package installer for Python and usually comes bundled with Python installations. pip is used to install CrewAI and its additional tools.\n",
    "   - iii) Virtual Environment : It is advised to set up a virtual environment to isolate your project dependencies.\n",
    "       - **Options:** Conda, poetry or uv (We will use UV package manager) in crewai. \n",
    "       Setting up a virtual environment prevents conflicts with other projects and makes dependency management much easier.\n",
    "   - iv) Additional Microsoft Build Tools: \n",
    "       - **Rust Compiler:** Some dependencies (e.g., for the tiktoken module) might require a Rust compiler if a pre-built wheel isn’t available. \n",
    "        \n",
    "         - Download [RUST](https://rustup.rs/). \n",
    "         - You can check Rust complier after downloading through command `rustc --version`\n",
    "\n",
    "       - **Windows Specific:** Windows users may also need to have the **Visual C++ Build Tools** installed if issues arise during wheel building. \n",
    "       \n",
    "         - You can download it from [MS Build Tools](https://visualstudio.microsoft.com/visual-cpp-build-tools/)\n",
    "\n",
    "If you have fullfilled above **requirements** then you can install crewAI using below code: \n",
    "\n",
    " `pip install crewai crewai-tools`\n",
    "\n",
    "\n",
    " If you have an older version of CrewAI installed, you can upgrade it:\n",
    "\n",
    " `pip install --upgrade crewai crewai-tools`"
   ]
  },
  {
   "cell_type": "markdown",
   "metadata": {},
   "source": [
    "#### Verify Installation: \n",
    "\n",
    "Wite the following command in ther terminal : \n",
    "\n",
    "`crewai --version`\n",
    "\n",
    "or \n",
    "\n",
    "`pip freeze | findstr crewai`  \n"
   ]
  },
  {
   "cell_type": "markdown",
   "metadata": {},
   "source": [
    "This was all about the introduction and Installation of CrewAI & You’re ready to create your first crew."
   ]
  },
  {
   "cell_type": "markdown",
   "metadata": {},
   "source": [
    "## OPTIONAL - IF YOU WANT TO SWITCH BETWEEN THE PYTHON VERSIONS. \n",
    "\n",
    "IF YOU HAVE LET SUPPOSE LATEST VERSION OF PYTHON INSTALLED BUT IT DOESN'T SUPPORT WITH THE CREWAI THEN YOU CAN SWITCH BETWEEN THE PYTHON VERSIONS AS FOLLOWS: \n",
    "\n",
    "  - Go to python.org/downloads and download the installer for specific version i.e. Python 3.11.9.\n",
    "  - Verify how many python versions are avaialable through the following command: \n",
    "      `py --list`   -  \n",
    "      - This will display all installed Python versions.\n",
    "  -  Switch to Python 3.11.9 as the Default Using the Python Launcher:\n",
    "    - To set Python 3.11 as the default when you run py:\n",
    "       - Create or edit the py.ini configuration file located in the C:\\Users\\<YourUsername>\\AppData\\Local\\py.ini directory.\n",
    "       - Add the following lines: \n",
    "            [defaults]\n",
    "            python=3.11\n",
    "           - if `py.ini` is not available then create it by opening a `notepad` and write above lines and save that file with name along with extension as `py.ini` and paste this file to the above mentioned path. \n",
    "       - This configuration sets Python 3.11 as the default for the `py` command.\n",
    "       - Adjust System Environment Variables PATHs:\n",
    "          - Press `Win + Pause` > Click on **Advanced system settings** > Click on **Environment Variables.**\n",
    "       - In the System variables section, find the `Path` variable and click **Edit**.\n",
    "       - Create a path of the a related python version which you wanted to use as default if the path is not already available, you can create as follows (for version 3.11.9): \n",
    "         - C:\\Users\\<YourUsername>\\AppData\\Local\\Programs\\Python\\Python311\\\n",
    "        \n",
    "       - If the path is already available the adjust the order so that the path to Python 3.11's directory appears before any other Python paths.\n",
    "\n",
    "       - Click **OK** to save the changes.\n",
    "       - Verify the **Default Python** Version in cmd:\n",
    "          - `python --version`\n",
    "       - Above steps will default your required python version but VS code might still show you the latest version installed. If you found this beviour of VS code then you can follow below steps to ensure VS code is also displaying the same output as cmd is displaying. \n",
    "         - Open VS Code. \n",
    "         - Press `Ctrl+Shift+P` to open the Command Palette.\n",
    "         - Type `Python: Select Interpreter` and press Enter.\n",
    "         - Choose the Python 3.11.9 interpreter from the list.\n",
    "           **Configure the Integrated Terminal to Use the System's PATH:**\n",
    "             - In VS Code, navigate to `File > Preferences > Settings`.\n",
    "             - Search for `terminal.integrated.inheritEnv.`.\n",
    "             - Ensure that this setting is enabled `(true)`.\n",
    "             - Restart your VS code. \n",
    "\n",
    "**Note:  The commamnd `py -<WriteVersion> -c \"import sys; print(sys.executable)\"` is used to display the python relevent version. & you must always put the python's script path along with its version's path in the environment variable.**     \n",
    "\n",
    "\n",
    "          \n",
    "\n",
    "\n",
    " "
   ]
  }
 ],
 "metadata": {
  "kernelspec": {
   "display_name": "first-project-8hIcsJoR-py3.13",
   "language": "python",
   "name": "python3"
  },
  "language_info": {
   "name": "python",
   "version": "3.13.0"
  }
 },
 "nbformat": 4,
 "nbformat_minor": 2
}
