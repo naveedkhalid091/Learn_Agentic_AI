{
 "cells": [
  {
   "cell_type": "markdown",
   "metadata": {},
   "source": [
    "## Introduction to CrewAI: \n",
    "\n",
    "CrewAI is: \n",
    "  - **Open source**: The tool's code is freely available for anyone to use, modify, or improve.\n",
    "  - **Production-grade framework:** It’s built to be robust and reliable enough for real-world applications.\n",
    "  -  It helps manage a group of independent AI programs, each given a specific role or job, so they can work together like a real team (or “crew”) to get complex tasks done.\n",
    "\n",
    "This means CrewAI lets you set up and run a team of specialized AI helpers that collaborate automatically to solve problems efficiently.\n",
    "\n",
    "Read the official documentation of CrewAI from : [Docs](https://docs.crewai.com/introduction)"
   ]
  },
  {
   "cell_type": "markdown",
   "metadata": {},
   "source": [
    "## Installation of CrewAI: \n",
    "\n",
    "You can install crewAI using below code: \n",
    "\n",
    " `pip install crewai crewai-tools`\n",
    "\n",
    "\n",
    " If you have an older version of CrewAI installed, you can upgrade it:\n",
    "\n",
    " `pip install --upgrade crewai crewai-tools`"
   ]
  },
  {
   "cell_type": "markdown",
   "metadata": {},
   "source": [
    "#### Verify Installation: \n",
    "\n",
    "Wite the following command in ther terminal : \n",
    "\n",
    "`pip freeze | grep crewai` \n",
    "\n",
    "You should see something like:\n",
    "\n",
    "crewai==X.X.X\n",
    "\n",
    "crewai-tools==X.X.X\n"
   ]
  },
  {
   "cell_type": "code",
   "execution_count": null,
   "metadata": {},
   "outputs": [],
   "source": []
  },
  {
   "cell_type": "markdown",
   "metadata": {},
   "source": [
    "This was all about the introduction and Installation of CrewAI & You’re ready to create your first crew."
   ]
  }
 ],
 "metadata": {
  "kernelspec": {
   "display_name": "first-project-8hIcsJoR-py3.13",
   "language": "python",
   "name": "python3"
  },
  "language_info": {
   "name": "python",
   "version": "3.13.0"
  }
 },
 "nbformat": 4,
 "nbformat_minor": 2
}
