{
 "cells": [
  {
   "cell_type": "markdown",
   "metadata": {},
   "source": [
    "## Create first crew project: \n",
    "\n",
    "**1. Generate Project Structure:**\n",
    "  - Write below CLI command \n",
    "     `crewai create flow projectName`\n",
    "\n",
    "     This command scaffolds a Flow project, It creates a project structure where you can connect multiple crews and chain tasks using decorators like @start and @listen. This is ideal for complex projects that need to manage state, handle conditional execution, or coordinate several teams (crews) within a single automated pipeline.\n",
    "\n",
    "  - CrewAI also uses the UV & liteLLM so both of these will be used here automatically.  \n",
    "\n",
    "\n"
   ]
  }
 ],
 "metadata": {
  "language_info": {
   "name": "python"
  }
 },
 "nbformat": 4,
 "nbformat_minor": 2
}
