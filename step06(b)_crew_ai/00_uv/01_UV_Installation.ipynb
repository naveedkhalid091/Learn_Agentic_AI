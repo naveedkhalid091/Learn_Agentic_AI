{
 "cells": [
  {
   "cell_type": "markdown",
   "metadata": {},
   "source": [
    "## Installation of UV: \n",
    "\n",
    "You can install `UV` through following command from the powershell. "
   ]
  },
  {
   "cell_type": "code",
   "execution_count": null,
   "metadata": {
    "vscode": {
     "languageId": "plaintext"
    }
   },
   "outputs": [],
   "source": [
    "powershell -ExecutionPolicy ByPass -c \"irm https://astral.sh/uv/install.ps1 | iex\""
   ]
  },
  {
   "cell_type": "markdown",
   "metadata": {},
   "source": [
    "**Note: You can also install `uv` from through pip by `pip install uv` but this installation will be project specific, when you will download `uv` from above powershell command then `uv` will install globally and global downloading is recommended**"
   ]
  },
  {
   "cell_type": "markdown",
   "metadata": {},
   "source": [
    "## Add uv's directory to your PATH in environment variable:\n",
    "\n",
    "- Press **Win + R**, type `sysdm.cpl`, and press Enter to open System Properties.\n",
    "- Go to the **Advanced** tab and click **Environment Variables**.\n",
    "- Under **User variables** (or System variables if you want it available for all users), find and select **Path**, then click **Edit**.\n",
    "- Click **New** and add: C:\\Users\\<YourUsername>\\.cargo\\bin.\n",
    "- Click **OK** to close all dialogs.\n",
    "- Restart your PowerShell or Command Prompt and then run below command to check the UV version to ensure that the UV has been installed sucessfully:\n",
    "\n",
    " `uv --version` or `uv version`"
   ]
  },
  {
   "cell_type": "code",
   "execution_count": null,
   "metadata": {
    "vscode": {
     "languageId": "plaintext"
    }
   },
   "outputs": [],
   "source": []
  }
 ],
 "metadata": {
  "language_info": {
   "name": "python"
  }
 },
 "nbformat": 4,
 "nbformat_minor": 2
}
