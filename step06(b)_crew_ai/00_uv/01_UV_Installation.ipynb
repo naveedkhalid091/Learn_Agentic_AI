{
 "cells": [
  {
   "cell_type": "markdown",
   "metadata": {},
   "source": [
    "<a href=\"https://colab.research.google.com/github/naveedkhalid091/Learn_Agentic_AI/blob/main/step06(b)_crew_ai/00_uv/01_UV_Installation.ipynb\" target=\"_parent\"><img src=\"https://colab.research.google.com/assets/colab-badge.svg\" alt=\"Open In Colab\"/></a>"
   ]
  },
  {
   "cell_type": "markdown",
   "metadata": {},
   "source": [
    "## Installation of UV: \n",
    "\n",
    "You can install `UV` through following command from the powershell. "
   ]
  },
  {
   "cell_type": "code",
   "execution_count": null,
   "metadata": {
    "vscode": {
     "languageId": "plaintext"
    }
   },
   "outputs": [],
   "source": [
    "powershell -ExecutionPolicy ByPass -c \"irm https://astral.sh/uv/install.ps1 | iex\""
   ]
  },
  {
   "cell_type": "markdown",
   "metadata": {},
   "source": [
    "**Note: You can also install `uv` from through pip by `pip install uv` but this installation will be project specific, when you will download `uv` from above powershell command then `uv` will install globally and global downloading is recommended**"
   ]
  },
  {
   "cell_type": "markdown",
   "metadata": {},
   "source": [
    "## Add uv's directory to your PATH in environment variable:\n",
    "\n",
    "- Press **Win + R**, type `sysdm.cpl`, and press Enter to open System Properties.\n",
    "- Go to the **Advanced** tab and click **Environment Variables**.\n",
    "- Under **User variables** (or System variables if you want it available for all users), find and select **Path**, then click **Edit**.\n",
    "- Click **New** and add: C:\\Users\\<YourUsername>\\.cargo\\bin.\n",
    "- Click **OK** to close all dialogs.\n",
    "- Restart your PowerShell or Command Prompt and then run below command to check the UV version to ensure that the UV has been installed sucessfully:\n",
    "\n",
    " `uv --version` or `uv version`"
   ]
  },
  {
   "cell_type": "markdown",
   "metadata": {
    "vscode": {
     "languageId": "plaintext"
    }
   },
   "source": [
    "## Commands uv: \n",
    "\n",
    "If you wanted to know about the available commands of `uv` then you can write `uv --help` in the terminal and commands will be shown in the terminal. \n",
    "\n",
    "However there are below commands available which are mostly used. \n",
    "\n",
    "`uv run`   -   Run a command or script\n",
    "`uv init`  -   Create a new project\n",
    "`uv add`   -   Add dependencies to the project\n",
    "`uv remove`-   Remove dependencies from the project\n",
    "`uv sync`  -   Update the project's environment\n",
    "`uv lock`  -   Update the project's lockfile\n",
    "`uv export`-   Export the project's lockfile to an alternate format\n",
    "`uv tree`  -   Display the project's dependency tree\n",
    "`uv tool`  -   Run and install commands provided by Python packages\n",
    "`uv python`-   Manage Python versions and installations\n",
    "`uv pip`   -   Manage Python packages with a pip-compatible interface\n",
    "`uv venv`  -   Create a virtual environment\n",
    "`uv build` -   Build Python packages into source distributions and wheels.\n",
    "`uv publish`-  Upload distributions to an index\n",
    "`uv cache`  -  Manage uv's cache\n",
    "`uv self`   -  Manage the uv executable\n",
    "`uv version`-  Display uv's version\n",
    "`uv help`   -  Display documentation for a command"
   ]
  }
 ],
 "metadata": {
  "language_info": {
   "name": "python"
  }
 },
 "nbformat": 4,
 "nbformat_minor": 2
}
