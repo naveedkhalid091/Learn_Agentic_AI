{
  "nbformat": 4,
  "nbformat_minor": 0,
  "metadata": {
    "colab": {
      "provenance": [],
      "authorship_tag": "ABX9TyMEoAfAsNRfg8b5s1R7366B",
      "include_colab_link": true
    },
    "kernelspec": {
      "name": "python3",
      "display_name": "Python 3"
    },
    "language_info": {
      "name": "python"
    }
  },
  "cells": [
    {
      "cell_type": "markdown",
      "metadata": {
        "id": "view-in-github",
        "colab_type": "text"
      },
      "source": [
        "<a href=\"https://colab.research.google.com/github/naveedkhalid091/Learn_Agentic_AI/blob/main/step06(b)_crew_ai/00_uv/00_UV.ipynb\" target=\"_parent\"><img src=\"https://colab.research.google.com/assets/colab-badge.svg\" alt=\"Open In Colab\"/></a>"
      ]
    },
    {
      "cell_type": "markdown",
      "source": [
        "# **What Is UV?**\n",
        "\n",
        "UV is a new, all-in-one Python project and package manager that aims to simplify and speed up the way you work with Python projects. Here’s a breakdown in simple terms:\n",
        "\n",
        "Click on the **[UV official Docs link](https://docs.astral.sh/uv/)** if you wanted to learn UV from the official documentation. However I am providing useful infromation regarding UV below:\n",
        "\n",
        "**Highlights:**\n",
        "- A single tool to replace `pip`, `pip-tools`, `pipx`, `poetry`, `pyenv`, `twine`, `virtualenv`, and more.\n",
        "- 10-100x faster than pip.\n",
        "- Provides comprehensive project management, with a universal lockfile.\n",
        "- Installs and manages Python versions.\n",
        "- Runs and installs tools published as Python packages.\n",
        "- Disk-space efficient, with a global cache for dependency deduplication.\n",
        "- Installable without Rust or Python via `curl` or `pip`.\n",
        "- Supports macOS, Linux, and Windows."
      ],
      "metadata": {
        "id": "0iF-X9vISI7H"
      }
    },
    {
      "cell_type": "markdown",
      "source": [
        "- **A Single Tool for Many Tasks:**\n",
        "UV is designed to replace several separate tools you might already use for Python projects. Instead of using pip (to install packages), pip-tools (to resolve dependencies), pipx (to run command‐line tools in isolated environments), virtualenv/pyenv (for creating and managing virtual environments), and even parts of Poetry (for managing project metadata and dependencies), UV combines all these functions into one tool.\n",
        "- **Built in Rust for Speed:** Unlike many existing Python tools (which are written in Python), UV is implemented in Rust. This makes many operations—like resolving dependencies and creating virtual environments—much faster (often 10–100 times faster) than traditional methods.\n",
        "- **Unified Project Workflow:** UV uses a standard configuration file **`(pyproject.toml)`** to store project metadata and dependencies and creates its own lock file (uv.lock) for reproducible installations. It also provides commands like **`uv init`** (to start a new project), **`uv add`** (to add dependencies), **`uv sync`** (to update the project environment), and **`uv run`** (to execute scripts without manually activating a virtual environment).\n"
      ],
      "metadata": {
        "id": "yrV4x3pOSU-G"
      }
    },
    {
      "cell_type": "markdown",
      "source": [
        "## Installation:\n",
        "\n",
        "Install uv with our official standalone installer:"
      ],
      "metadata": {
        "id": "ZHLUSJbeTsUE"
      }
    },
    {
      "cell_type": "code",
      "source": [
        "# windows command\n",
        " powershell -c \"irm https://astral.sh/uv/install.ps1 | iex\""
      ],
      "metadata": {
        "id": "w2Vl8jVOWrcU"
      },
      "execution_count": null,
      "outputs": []
    },
    {
      "cell_type": "markdown",
      "source": [
        "## Structure of your project when working with CrewAI & LLM based applications:\n",
        "\n",
        "In every project you need to have a folder structure so you also need a folder structure in crewAI & LLM related projects. for Example:   \n",
        "- You need to have a `.toml` file.\n",
        "- You need to have `src` folder.\n",
        "   - You need to have `crewAI` folder inside the `src` folder.\n",
        "   - You need to have `.env` file inside the `src` folder.\n",
        "And many more complex things.\n",
        "\n",
        "You had to create the folder structure manually before the availability of python package managers like `poerty` and `uv` but **thanks to these package managers** who made the developers life easy and now the creation of folder structure is solely the responsibility of these package managers.\n",
        "\n",
        "Developers now only focus on `code` and `uv` manage the folder structure for us.\n",
        "\n",
        "**Secondly**, `uv` has made the unified python structure so that the same structure work all operating systems like Windows,Linux and Apple etc.\n",
        "\n",
        "**Thirdly**, `uv` has the command/expertise on all the available python management tools because uv is written on **RUST** language.\n",
        "\n",
        "**Fourth**, As we know that the `uv` is written on **RUST** and RUST is known as the fastest language that's why the another feature of `uv` is that the `uv` downloads the packages and dependancies very fast becasue all other package managers allow the sequesntial downloading but `uv` has enabled the prallel downloading.\n",
        "- **For Example:** if there are ten tools to download in a single package then it will download all the tools parallel rather then sequential downloading.   \n",
        "\n"
      ],
      "metadata": {
        "id": "k0WKmm0ZTKoA"
      }
    }
  ]
}